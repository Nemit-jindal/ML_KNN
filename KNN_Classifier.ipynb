{
  "nbformat": 4,
  "nbformat_minor": 0,
  "metadata": {
    "colab": {
      "provenance": [],
      "authorship_tag": "ABX9TyN2pRs5txCeqOOMpTlnVtvq",
      "include_colab_link": true
    },
    "kernelspec": {
      "name": "python3",
      "display_name": "Python 3"
    },
    "language_info": {
      "name": "python"
    }
  },
  "cells": [
    {
      "cell_type": "markdown",
      "metadata": {
        "id": "view-in-github",
        "colab_type": "text"
      },
      "source": [
        "<a href=\"https://colab.research.google.com/github/Nemit-jindal/ML_KNN/blob/main/KNN_Classifier.ipynb\" target=\"_parent\"><img src=\"https://colab.research.google.com/assets/colab-badge.svg\" alt=\"Open In Colab\"/></a>"
      ]
    },
    {
      "cell_type": "code",
      "execution_count": 1,
      "metadata": {
        "id": "94zLsDVyLzEu"
      },
      "outputs": [],
      "source": [
        "import pandas as pd\n",
        "import numpy as np\n",
        "import seaborn as sns\n",
        "import matplotlib.pyplot as plt\n",
        "\n",
        "import warnings\n",
        "warnings.filterwarnings('ignore')"
      ]
    },
    {
      "cell_type": "code",
      "source": [
        "from sklearn.datasets import make_classification\n",
        "x,y=make_classification(n_samples=1000,n_features=3,n_redundant=0,n_classes=2,random_state=1)"
      ],
      "metadata": {
        "id": "JwQewycxM1Hd"
      },
      "execution_count": 2,
      "outputs": []
    },
    {
      "cell_type": "code",
      "source": [
        "x"
      ],
      "metadata": {
        "colab": {
          "base_uri": "https://localhost:8080/"
        },
        "id": "1YqOKZ3UNPTP",
        "outputId": "9d07f6dd-8601-433f-9586-23a9de23beaf"
      },
      "execution_count": 3,
      "outputs": [
        {
          "output_type": "execute_result",
          "data": {
            "text/plain": [
              "array([[ 0.60500791,  0.51340375, -1.55859419],\n",
              "       [ 0.81846819, -1.88473945,  1.49992516],\n",
              "       [ 0.53437474, -0.01420736,  0.2771265 ],\n",
              "       ...,\n",
              "       [ 2.28830983,  3.74857955, -0.5886461 ],\n",
              "       [-0.28103796, -1.84729902,  1.13548397],\n",
              "       [ 0.76642645, -1.29293146,  0.88279907]])"
            ]
          },
          "metadata": {},
          "execution_count": 3
        }
      ]
    },
    {
      "cell_type": "code",
      "source": [
        "y"
      ],
      "metadata": {
        "colab": {
          "base_uri": "https://localhost:8080/"
        },
        "id": "22_0ertONQzG",
        "outputId": "4981d288-e552-4cbd-81c8-f359114ed2b8"
      },
      "execution_count": 4,
      "outputs": [
        {
          "output_type": "execute_result",
          "data": {
            "text/plain": [
              "array([1, 1, 0, 1, 1, 0, 1, 0, 0, 1, 0, 1, 1, 1, 1, 1, 1, 0, 0, 1, 0, 1,\n",
              "       1, 1, 1, 1, 0, 0, 0, 0, 0, 1, 1, 0, 0, 1, 1, 0, 0, 0, 0, 1, 0, 0,\n",
              "       0, 1, 0, 0, 1, 1, 0, 1, 0, 0, 0, 1, 1, 1, 1, 1, 0, 0, 1, 0, 0, 0,\n",
              "       1, 1, 1, 1, 1, 1, 1, 1, 1, 1, 0, 1, 1, 1, 0, 1, 1, 0, 1, 0, 0, 0,\n",
              "       0, 1, 1, 0, 1, 0, 0, 0, 0, 1, 0, 1, 0, 0, 1, 1, 1, 1, 1, 1, 1, 0,\n",
              "       1, 1, 1, 0, 0, 0, 1, 0, 1, 0, 1, 1, 1, 1, 0, 0, 0, 0, 0, 1, 1, 1,\n",
              "       0, 0, 0, 0, 1, 0, 1, 0, 1, 0, 1, 0, 1, 1, 1, 0, 1, 1, 1, 1, 0, 0,\n",
              "       1, 1, 0, 0, 0, 0, 1, 0, 1, 1, 1, 0, 1, 0, 0, 1, 1, 0, 1, 1, 1, 1,\n",
              "       1, 1, 0, 0, 1, 0, 0, 0, 1, 0, 1, 0, 1, 0, 1, 0, 1, 1, 0, 1, 1, 1,\n",
              "       0, 0, 0, 1, 0, 0, 1, 1, 0, 1, 1, 1, 1, 1, 1, 1, 0, 1, 1, 0, 0, 0,\n",
              "       0, 1, 0, 1, 0, 0, 0, 0, 0, 1, 0, 0, 0, 0, 1, 0, 1, 1, 0, 0, 0, 1,\n",
              "       0, 0, 1, 0, 0, 1, 0, 0, 1, 1, 0, 0, 0, 0, 1, 0, 0, 1, 0, 1, 1, 1,\n",
              "       1, 0, 0, 1, 0, 0, 0, 0, 1, 1, 0, 0, 0, 0, 1, 1, 0, 1, 1, 0, 1, 0,\n",
              "       0, 0, 0, 0, 1, 0, 0, 0, 1, 0, 0, 1, 0, 0, 0, 0, 0, 1, 1, 1, 0, 1,\n",
              "       1, 1, 0, 0, 1, 1, 0, 0, 0, 1, 0, 0, 1, 0, 1, 1, 0, 0, 1, 1, 1, 0,\n",
              "       1, 1, 1, 1, 0, 1, 0, 1, 1, 0, 0, 0, 1, 0, 1, 1, 1, 1, 0, 1, 1, 1,\n",
              "       0, 0, 1, 0, 1, 1, 1, 1, 0, 1, 0, 1, 1, 1, 0, 0, 1, 0, 0, 0, 0, 1,\n",
              "       0, 1, 1, 0, 0, 0, 0, 1, 0, 0, 1, 0, 1, 1, 1, 1, 0, 1, 0, 0, 1, 1,\n",
              "       0, 0, 1, 1, 1, 1, 0, 0, 1, 1, 1, 0, 0, 1, 0, 1, 1, 0, 0, 1, 0, 0,\n",
              "       0, 0, 1, 1, 1, 0, 0, 0, 0, 1, 0, 1, 1, 0, 0, 0, 1, 1, 1, 0, 1, 0,\n",
              "       1, 0, 1, 1, 1, 1, 1, 1, 1, 1, 1, 1, 1, 0, 1, 0, 0, 1, 1, 0, 0, 0,\n",
              "       0, 1, 0, 1, 0, 0, 0, 0, 1, 0, 1, 0, 1, 1, 0, 1, 0, 0, 0, 1, 1, 1,\n",
              "       0, 1, 1, 0, 1, 1, 1, 0, 1, 1, 0, 1, 0, 0, 0, 1, 1, 1, 0, 0, 1, 0,\n",
              "       0, 0, 0, 0, 1, 1, 0, 1, 0, 1, 0, 1, 1, 0, 1, 0, 0, 0, 0, 0, 0, 1,\n",
              "       0, 0, 0, 1, 0, 0, 0, 1, 1, 1, 0, 1, 1, 1, 0, 0, 1, 0, 1, 1, 1, 0,\n",
              "       1, 1, 0, 0, 1, 1, 0, 0, 1, 1, 0, 1, 1, 0, 1, 1, 0, 1, 0, 1, 0, 1,\n",
              "       0, 1, 0, 1, 1, 1, 1, 1, 0, 0, 1, 1, 1, 0, 1, 0, 0, 0, 0, 1, 0, 1,\n",
              "       0, 1, 1, 0, 0, 0, 1, 1, 1, 1, 0, 0, 1, 1, 0, 1, 0, 1, 1, 0, 0, 1,\n",
              "       0, 1, 0, 0, 1, 0, 1, 1, 0, 0, 0, 0, 0, 0, 1, 0, 1, 0, 0, 0, 0, 0,\n",
              "       1, 1, 0, 0, 1, 0, 1, 0, 1, 1, 1, 0, 1, 1, 1, 1, 1, 1, 1, 0, 1, 1,\n",
              "       1, 1, 0, 0, 0, 1, 0, 0, 1, 1, 0, 0, 1, 0, 1, 0, 0, 1, 0, 0, 1, 0,\n",
              "       0, 0, 0, 1, 1, 1, 1, 1, 0, 0, 0, 1, 1, 1, 0, 0, 1, 0, 0, 0, 1, 1,\n",
              "       1, 0, 1, 1, 0, 0, 0, 0, 1, 1, 0, 0, 1, 0, 1, 1, 1, 1, 0, 1, 0, 1,\n",
              "       1, 1, 0, 0, 1, 0, 1, 0, 1, 0, 0, 0, 1, 1, 1, 0, 0, 0, 0, 1, 0, 0,\n",
              "       0, 1, 1, 1, 1, 0, 1, 0, 0, 0, 1, 1, 1, 1, 1, 1, 0, 1, 1, 1, 0, 1,\n",
              "       0, 0, 0, 0, 0, 0, 0, 0, 1, 1, 1, 0, 0, 0, 1, 1, 0, 1, 1, 0, 0, 0,\n",
              "       0, 0, 1, 0, 0, 1, 0, 1, 1, 0, 0, 0, 0, 0, 0, 1, 1, 1, 1, 1, 1, 1,\n",
              "       1, 0, 0, 0, 0, 0, 0, 1, 0, 0, 0, 0, 1, 0, 0, 1, 0, 0, 0, 1, 1, 1,\n",
              "       1, 0, 0, 0, 1, 1, 0, 1, 0, 0, 0, 1, 1, 0, 1, 0, 1, 0, 0, 0, 0, 0,\n",
              "       1, 0, 1, 0, 1, 0, 0, 0, 1, 1, 0, 0, 0, 0, 1, 1, 0, 0, 0, 1, 0, 0,\n",
              "       0, 1, 1, 1, 0, 1, 0, 1, 0, 0, 0, 0, 1, 0, 1, 0, 1, 0, 1, 1, 1, 1,\n",
              "       0, 1, 1, 0, 1, 0, 1, 1, 0, 1, 0, 1, 1, 1, 1, 0, 0, 0, 1, 0, 0, 1,\n",
              "       1, 0, 1, 0, 0, 1, 0, 1, 1, 1, 1, 0, 0, 0, 1, 1, 1, 1, 1, 1, 0, 1,\n",
              "       0, 1, 0, 1, 1, 1, 0, 0, 0, 1, 0, 0, 0, 1, 0, 0, 0, 1, 1, 1, 0, 0,\n",
              "       0, 1, 1, 0, 1, 0, 0, 0, 0, 1, 0, 1, 1, 1, 0, 1, 0, 1, 0, 0, 1, 0,\n",
              "       0, 1, 1, 0, 1, 1, 0, 1, 0, 1])"
            ]
          },
          "metadata": {},
          "execution_count": 4
        }
      ]
    },
    {
      "cell_type": "code",
      "source": [
        "from sklearn.model_selection import train_test_split\n",
        "x_train,x_test,y_train,y_test=train_test_split(x,y,test_size=0.3,random_state=1)"
      ],
      "metadata": {
        "id": "I1Sapu49NRDO"
      },
      "execution_count": 5,
      "outputs": []
    },
    {
      "cell_type": "code",
      "source": [
        "x_train.shape,x_test.shape"
      ],
      "metadata": {
        "colab": {
          "base_uri": "https://localhost:8080/"
        },
        "id": "QLfStKmNNqxh",
        "outputId": "1457defd-7de4-435f-dccf-5da7451a2d86"
      },
      "execution_count": 6,
      "outputs": [
        {
          "output_type": "execute_result",
          "data": {
            "text/plain": [
              "((700, 3), (300, 3))"
            ]
          },
          "metadata": {},
          "execution_count": 6
        }
      ]
    },
    {
      "cell_type": "code",
      "source": [
        "from sklearn.neighbors import KNeighborsClassifier\n",
        "clf=KNeighborsClassifier()"
      ],
      "metadata": {
        "id": "q0ZGAABqNxdn"
      },
      "execution_count": 7,
      "outputs": []
    },
    {
      "cell_type": "code",
      "source": [
        "clf"
      ],
      "metadata": {
        "colab": {
          "base_uri": "https://localhost:8080/",
          "height": 74
        },
        "id": "tWzEjuQsORU3",
        "outputId": "00c1501d-2c75-4028-f76a-1f3628d35931"
      },
      "execution_count": 8,
      "outputs": [
        {
          "output_type": "execute_result",
          "data": {
            "text/plain": [
              "KNeighborsClassifier()"
            ],
            "text/html": [
              "<style>#sk-container-id-1 {color: black;}#sk-container-id-1 pre{padding: 0;}#sk-container-id-1 div.sk-toggleable {background-color: white;}#sk-container-id-1 label.sk-toggleable__label {cursor: pointer;display: block;width: 100%;margin-bottom: 0;padding: 0.3em;box-sizing: border-box;text-align: center;}#sk-container-id-1 label.sk-toggleable__label-arrow:before {content: \"▸\";float: left;margin-right: 0.25em;color: #696969;}#sk-container-id-1 label.sk-toggleable__label-arrow:hover:before {color: black;}#sk-container-id-1 div.sk-estimator:hover label.sk-toggleable__label-arrow:before {color: black;}#sk-container-id-1 div.sk-toggleable__content {max-height: 0;max-width: 0;overflow: hidden;text-align: left;background-color: #f0f8ff;}#sk-container-id-1 div.sk-toggleable__content pre {margin: 0.2em;color: black;border-radius: 0.25em;background-color: #f0f8ff;}#sk-container-id-1 input.sk-toggleable__control:checked~div.sk-toggleable__content {max-height: 200px;max-width: 100%;overflow: auto;}#sk-container-id-1 input.sk-toggleable__control:checked~label.sk-toggleable__label-arrow:before {content: \"▾\";}#sk-container-id-1 div.sk-estimator input.sk-toggleable__control:checked~label.sk-toggleable__label {background-color: #d4ebff;}#sk-container-id-1 div.sk-label input.sk-toggleable__control:checked~label.sk-toggleable__label {background-color: #d4ebff;}#sk-container-id-1 input.sk-hidden--visually {border: 0;clip: rect(1px 1px 1px 1px);clip: rect(1px, 1px, 1px, 1px);height: 1px;margin: -1px;overflow: hidden;padding: 0;position: absolute;width: 1px;}#sk-container-id-1 div.sk-estimator {font-family: monospace;background-color: #f0f8ff;border: 1px dotted black;border-radius: 0.25em;box-sizing: border-box;margin-bottom: 0.5em;}#sk-container-id-1 div.sk-estimator:hover {background-color: #d4ebff;}#sk-container-id-1 div.sk-parallel-item::after {content: \"\";width: 100%;border-bottom: 1px solid gray;flex-grow: 1;}#sk-container-id-1 div.sk-label:hover label.sk-toggleable__label {background-color: #d4ebff;}#sk-container-id-1 div.sk-serial::before {content: \"\";position: absolute;border-left: 1px solid gray;box-sizing: border-box;top: 0;bottom: 0;left: 50%;z-index: 0;}#sk-container-id-1 div.sk-serial {display: flex;flex-direction: column;align-items: center;background-color: white;padding-right: 0.2em;padding-left: 0.2em;position: relative;}#sk-container-id-1 div.sk-item {position: relative;z-index: 1;}#sk-container-id-1 div.sk-parallel {display: flex;align-items: stretch;justify-content: center;background-color: white;position: relative;}#sk-container-id-1 div.sk-item::before, #sk-container-id-1 div.sk-parallel-item::before {content: \"\";position: absolute;border-left: 1px solid gray;box-sizing: border-box;top: 0;bottom: 0;left: 50%;z-index: -1;}#sk-container-id-1 div.sk-parallel-item {display: flex;flex-direction: column;z-index: 1;position: relative;background-color: white;}#sk-container-id-1 div.sk-parallel-item:first-child::after {align-self: flex-end;width: 50%;}#sk-container-id-1 div.sk-parallel-item:last-child::after {align-self: flex-start;width: 50%;}#sk-container-id-1 div.sk-parallel-item:only-child::after {width: 0;}#sk-container-id-1 div.sk-dashed-wrapped {border: 1px dashed gray;margin: 0 0.4em 0.5em 0.4em;box-sizing: border-box;padding-bottom: 0.4em;background-color: white;}#sk-container-id-1 div.sk-label label {font-family: monospace;font-weight: bold;display: inline-block;line-height: 1.2em;}#sk-container-id-1 div.sk-label-container {text-align: center;}#sk-container-id-1 div.sk-container {/* jupyter's `normalize.less` sets `[hidden] { display: none; }` but bootstrap.min.css set `[hidden] { display: none !important; }` so we also need the `!important` here to be able to override the default hidden behavior on the sphinx rendered scikit-learn.org. See: https://github.com/scikit-learn/scikit-learn/issues/21755 */display: inline-block !important;position: relative;}#sk-container-id-1 div.sk-text-repr-fallback {display: none;}</style><div id=\"sk-container-id-1\" class=\"sk-top-container\"><div class=\"sk-text-repr-fallback\"><pre>KNeighborsClassifier()</pre><b>In a Jupyter environment, please rerun this cell to show the HTML representation or trust the notebook. <br />On GitHub, the HTML representation is unable to render, please try loading this page with nbviewer.org.</b></div><div class=\"sk-container\" hidden><div class=\"sk-item\"><div class=\"sk-estimator sk-toggleable\"><input class=\"sk-toggleable__control sk-hidden--visually\" id=\"sk-estimator-id-1\" type=\"checkbox\" checked><label for=\"sk-estimator-id-1\" class=\"sk-toggleable__label sk-toggleable__label-arrow\">KNeighborsClassifier</label><div class=\"sk-toggleable__content\"><pre>KNeighborsClassifier()</pre></div></div></div></div></div>"
            ]
          },
          "metadata": {},
          "execution_count": 8
        }
      ]
    },
    {
      "cell_type": "code",
      "source": [
        "clf.fit(x_train,y_train)"
      ],
      "metadata": {
        "colab": {
          "base_uri": "https://localhost:8080/",
          "height": 74
        },
        "id": "3ARli_QDOSPl",
        "outputId": "343dc364-1532-496f-e460-7ecaaf311da6"
      },
      "execution_count": 9,
      "outputs": [
        {
          "output_type": "execute_result",
          "data": {
            "text/plain": [
              "KNeighborsClassifier()"
            ],
            "text/html": [
              "<style>#sk-container-id-2 {color: black;}#sk-container-id-2 pre{padding: 0;}#sk-container-id-2 div.sk-toggleable {background-color: white;}#sk-container-id-2 label.sk-toggleable__label {cursor: pointer;display: block;width: 100%;margin-bottom: 0;padding: 0.3em;box-sizing: border-box;text-align: center;}#sk-container-id-2 label.sk-toggleable__label-arrow:before {content: \"▸\";float: left;margin-right: 0.25em;color: #696969;}#sk-container-id-2 label.sk-toggleable__label-arrow:hover:before {color: black;}#sk-container-id-2 div.sk-estimator:hover label.sk-toggleable__label-arrow:before {color: black;}#sk-container-id-2 div.sk-toggleable__content {max-height: 0;max-width: 0;overflow: hidden;text-align: left;background-color: #f0f8ff;}#sk-container-id-2 div.sk-toggleable__content pre {margin: 0.2em;color: black;border-radius: 0.25em;background-color: #f0f8ff;}#sk-container-id-2 input.sk-toggleable__control:checked~div.sk-toggleable__content {max-height: 200px;max-width: 100%;overflow: auto;}#sk-container-id-2 input.sk-toggleable__control:checked~label.sk-toggleable__label-arrow:before {content: \"▾\";}#sk-container-id-2 div.sk-estimator input.sk-toggleable__control:checked~label.sk-toggleable__label {background-color: #d4ebff;}#sk-container-id-2 div.sk-label input.sk-toggleable__control:checked~label.sk-toggleable__label {background-color: #d4ebff;}#sk-container-id-2 input.sk-hidden--visually {border: 0;clip: rect(1px 1px 1px 1px);clip: rect(1px, 1px, 1px, 1px);height: 1px;margin: -1px;overflow: hidden;padding: 0;position: absolute;width: 1px;}#sk-container-id-2 div.sk-estimator {font-family: monospace;background-color: #f0f8ff;border: 1px dotted black;border-radius: 0.25em;box-sizing: border-box;margin-bottom: 0.5em;}#sk-container-id-2 div.sk-estimator:hover {background-color: #d4ebff;}#sk-container-id-2 div.sk-parallel-item::after {content: \"\";width: 100%;border-bottom: 1px solid gray;flex-grow: 1;}#sk-container-id-2 div.sk-label:hover label.sk-toggleable__label {background-color: #d4ebff;}#sk-container-id-2 div.sk-serial::before {content: \"\";position: absolute;border-left: 1px solid gray;box-sizing: border-box;top: 0;bottom: 0;left: 50%;z-index: 0;}#sk-container-id-2 div.sk-serial {display: flex;flex-direction: column;align-items: center;background-color: white;padding-right: 0.2em;padding-left: 0.2em;position: relative;}#sk-container-id-2 div.sk-item {position: relative;z-index: 1;}#sk-container-id-2 div.sk-parallel {display: flex;align-items: stretch;justify-content: center;background-color: white;position: relative;}#sk-container-id-2 div.sk-item::before, #sk-container-id-2 div.sk-parallel-item::before {content: \"\";position: absolute;border-left: 1px solid gray;box-sizing: border-box;top: 0;bottom: 0;left: 50%;z-index: -1;}#sk-container-id-2 div.sk-parallel-item {display: flex;flex-direction: column;z-index: 1;position: relative;background-color: white;}#sk-container-id-2 div.sk-parallel-item:first-child::after {align-self: flex-end;width: 50%;}#sk-container-id-2 div.sk-parallel-item:last-child::after {align-self: flex-start;width: 50%;}#sk-container-id-2 div.sk-parallel-item:only-child::after {width: 0;}#sk-container-id-2 div.sk-dashed-wrapped {border: 1px dashed gray;margin: 0 0.4em 0.5em 0.4em;box-sizing: border-box;padding-bottom: 0.4em;background-color: white;}#sk-container-id-2 div.sk-label label {font-family: monospace;font-weight: bold;display: inline-block;line-height: 1.2em;}#sk-container-id-2 div.sk-label-container {text-align: center;}#sk-container-id-2 div.sk-container {/* jupyter's `normalize.less` sets `[hidden] { display: none; }` but bootstrap.min.css set `[hidden] { display: none !important; }` so we also need the `!important` here to be able to override the default hidden behavior on the sphinx rendered scikit-learn.org. See: https://github.com/scikit-learn/scikit-learn/issues/21755 */display: inline-block !important;position: relative;}#sk-container-id-2 div.sk-text-repr-fallback {display: none;}</style><div id=\"sk-container-id-2\" class=\"sk-top-container\"><div class=\"sk-text-repr-fallback\"><pre>KNeighborsClassifier()</pre><b>In a Jupyter environment, please rerun this cell to show the HTML representation or trust the notebook. <br />On GitHub, the HTML representation is unable to render, please try loading this page with nbviewer.org.</b></div><div class=\"sk-container\" hidden><div class=\"sk-item\"><div class=\"sk-estimator sk-toggleable\"><input class=\"sk-toggleable__control sk-hidden--visually\" id=\"sk-estimator-id-2\" type=\"checkbox\" checked><label for=\"sk-estimator-id-2\" class=\"sk-toggleable__label sk-toggleable__label-arrow\">KNeighborsClassifier</label><div class=\"sk-toggleable__content\"><pre>KNeighborsClassifier()</pre></div></div></div></div></div>"
            ]
          },
          "metadata": {},
          "execution_count": 9
        }
      ]
    },
    {
      "cell_type": "code",
      "source": [
        "y_pred=clf.predict(x_test)"
      ],
      "metadata": {
        "id": "xqLTOyItOYkG"
      },
      "execution_count": 10,
      "outputs": []
    },
    {
      "cell_type": "code",
      "source": [
        "y_pred"
      ],
      "metadata": {
        "colab": {
          "base_uri": "https://localhost:8080/"
        },
        "id": "nbdYZph8OgfA",
        "outputId": "90aae7b2-845f-4b55-b240-055712dd7b8c"
      },
      "execution_count": 11,
      "outputs": [
        {
          "output_type": "execute_result",
          "data": {
            "text/plain": [
              "array([1, 0, 1, 1, 0, 1, 1, 1, 0, 0, 1, 1, 0, 1, 0, 0, 1, 1, 1, 0, 1, 1,\n",
              "       0, 0, 0, 0, 1, 1, 1, 0, 0, 1, 1, 0, 1, 0, 1, 1, 1, 0, 1, 1, 1, 0,\n",
              "       1, 1, 1, 0, 1, 1, 1, 0, 1, 0, 1, 1, 1, 1, 1, 1, 1, 1, 1, 1, 0, 1,\n",
              "       0, 0, 0, 0, 0, 0, 0, 1, 1, 0, 0, 1, 1, 1, 0, 0, 1, 0, 1, 1, 1, 1,\n",
              "       1, 1, 0, 0, 1, 0, 0, 0, 1, 1, 0, 1, 1, 0, 0, 0, 0, 0, 1, 0, 1, 1,\n",
              "       0, 1, 0, 1, 0, 1, 1, 1, 1, 1, 1, 1, 0, 0, 0, 0, 1, 0, 0, 0, 1, 0,\n",
              "       1, 1, 1, 1, 0, 0, 1, 0, 1, 0, 1, 1, 1, 0, 0, 1, 1, 0, 1, 1, 0, 0,\n",
              "       1, 1, 0, 1, 1, 0, 0, 1, 0, 1, 1, 0, 0, 0, 1, 1, 0, 1, 0, 0, 0, 1,\n",
              "       1, 0, 1, 0, 1, 0, 1, 1, 1, 0, 0, 1, 0, 1, 0, 0, 0, 1, 0, 1, 0, 0,\n",
              "       0, 1, 0, 1, 0, 0, 0, 0, 1, 0, 0, 0, 0, 0, 1, 0, 0, 1, 1, 1, 1, 0,\n",
              "       1, 0, 0, 1, 0, 1, 1, 1, 1, 0, 1, 1, 1, 0, 1, 1, 0, 1, 0, 1, 1, 0,\n",
              "       1, 0, 0, 0, 0, 0, 0, 1, 0, 1, 1, 1, 0, 0, 1, 0, 0, 1, 1, 0, 0, 1,\n",
              "       0, 1, 0, 0, 0, 1, 0, 1, 0, 1, 0, 0, 0, 0, 0, 0, 1, 1, 1, 0, 1, 1,\n",
              "       0, 1, 1, 1, 0, 1, 0, 1, 1, 0, 1, 0, 0, 1])"
            ]
          },
          "metadata": {},
          "execution_count": 11
        }
      ]
    },
    {
      "cell_type": "code",
      "source": [
        "from sklearn.metrics import confusion_matrix,accuracy_score,classification_report\n",
        "confusion_matrix(y_test,y_pred)"
      ],
      "metadata": {
        "colab": {
          "base_uri": "https://localhost:8080/"
        },
        "id": "BGEEb1rXOmkw",
        "outputId": "2fee898d-bdcb-4c1d-cf8b-849cd9e02bf5"
      },
      "execution_count": 12,
      "outputs": [
        {
          "output_type": "execute_result",
          "data": {
            "text/plain": [
              "array([[122,  23],\n",
              "       [ 21, 134]])"
            ]
          },
          "metadata": {},
          "execution_count": 12
        }
      ]
    },
    {
      "cell_type": "code",
      "source": [
        "accuracy_score(y_test,y_pred)"
      ],
      "metadata": {
        "colab": {
          "base_uri": "https://localhost:8080/"
        },
        "id": "pOh5HaEdOy-p",
        "outputId": "c8f95d34-021d-4689-a95c-1b65969075a9"
      },
      "execution_count": 13,
      "outputs": [
        {
          "output_type": "execute_result",
          "data": {
            "text/plain": [
              "0.8533333333333334"
            ]
          },
          "metadata": {},
          "execution_count": 13
        }
      ]
    },
    {
      "cell_type": "code",
      "source": [
        "print(classification_report(y_test,y_pred))"
      ],
      "metadata": {
        "colab": {
          "base_uri": "https://localhost:8080/"
        },
        "id": "LeVcgJxFO5zF",
        "outputId": "946d3a5e-c3fd-44b6-ae96-aa5da6dad1fa"
      },
      "execution_count": 14,
      "outputs": [
        {
          "output_type": "stream",
          "name": "stdout",
          "text": [
            "              precision    recall  f1-score   support\n",
            "\n",
            "           0       0.85      0.84      0.85       145\n",
            "           1       0.85      0.86      0.86       155\n",
            "\n",
            "    accuracy                           0.85       300\n",
            "   macro avg       0.85      0.85      0.85       300\n",
            "weighted avg       0.85      0.85      0.85       300\n",
            "\n"
          ]
        }
      ]
    },
    {
      "cell_type": "code",
      "source": [
        "param_grid={\n",
        "    \"n_neighbors\":[3,5,6,7,10,12,15],\n",
        "    \"algorithm\":['ball_tree','brute','kd_tree'],\n",
        "    \"leaf_size\":[20,30,40,50]\n",
        "}"
      ],
      "metadata": {
        "id": "_vZ3D4uLO_2_"
      },
      "execution_count": 15,
      "outputs": []
    },
    {
      "cell_type": "code",
      "source": [
        "param_grid"
      ],
      "metadata": {
        "colab": {
          "base_uri": "https://localhost:8080/"
        },
        "id": "GGIgkzeTPnT6",
        "outputId": "cf75bde8-8f49-4a8b-ec0f-2f98e4320f14"
      },
      "execution_count": 16,
      "outputs": [
        {
          "output_type": "execute_result",
          "data": {
            "text/plain": [
              "{'n_neighbors': [3, 5, 6, 7, 10, 12, 15],\n",
              " 'algorithm': ['ball_tree', 'brute', 'kd_tree'],\n",
              " 'leaf_size': [20, 30, 40, 50]}"
            ]
          },
          "metadata": {},
          "execution_count": 16
        }
      ]
    },
    {
      "cell_type": "code",
      "source": [
        "from sklearn.model_selection import GridSearchCV\n",
        "grid=GridSearchCV(estimator=clf,param_grid=param_grid,cv=5,verbose=3)\n",
        "grid"
      ],
      "metadata": {
        "colab": {
          "base_uri": "https://localhost:8080/",
          "height": 117
        },
        "id": "QiaUX615PpW-",
        "outputId": "b4f0d06e-4b80-4e08-84ba-440c7e06c9eb"
      },
      "execution_count": 17,
      "outputs": [
        {
          "output_type": "execute_result",
          "data": {
            "text/plain": [
              "GridSearchCV(cv=5, estimator=KNeighborsClassifier(),\n",
              "             param_grid={'algorithm': ['ball_tree', 'brute', 'kd_tree'],\n",
              "                         'leaf_size': [20, 30, 40, 50],\n",
              "                         'n_neighbors': [3, 5, 6, 7, 10, 12, 15]},\n",
              "             verbose=3)"
            ],
            "text/html": [
              "<style>#sk-container-id-3 {color: black;}#sk-container-id-3 pre{padding: 0;}#sk-container-id-3 div.sk-toggleable {background-color: white;}#sk-container-id-3 label.sk-toggleable__label {cursor: pointer;display: block;width: 100%;margin-bottom: 0;padding: 0.3em;box-sizing: border-box;text-align: center;}#sk-container-id-3 label.sk-toggleable__label-arrow:before {content: \"▸\";float: left;margin-right: 0.25em;color: #696969;}#sk-container-id-3 label.sk-toggleable__label-arrow:hover:before {color: black;}#sk-container-id-3 div.sk-estimator:hover label.sk-toggleable__label-arrow:before {color: black;}#sk-container-id-3 div.sk-toggleable__content {max-height: 0;max-width: 0;overflow: hidden;text-align: left;background-color: #f0f8ff;}#sk-container-id-3 div.sk-toggleable__content pre {margin: 0.2em;color: black;border-radius: 0.25em;background-color: #f0f8ff;}#sk-container-id-3 input.sk-toggleable__control:checked~div.sk-toggleable__content {max-height: 200px;max-width: 100%;overflow: auto;}#sk-container-id-3 input.sk-toggleable__control:checked~label.sk-toggleable__label-arrow:before {content: \"▾\";}#sk-container-id-3 div.sk-estimator input.sk-toggleable__control:checked~label.sk-toggleable__label {background-color: #d4ebff;}#sk-container-id-3 div.sk-label input.sk-toggleable__control:checked~label.sk-toggleable__label {background-color: #d4ebff;}#sk-container-id-3 input.sk-hidden--visually {border: 0;clip: rect(1px 1px 1px 1px);clip: rect(1px, 1px, 1px, 1px);height: 1px;margin: -1px;overflow: hidden;padding: 0;position: absolute;width: 1px;}#sk-container-id-3 div.sk-estimator {font-family: monospace;background-color: #f0f8ff;border: 1px dotted black;border-radius: 0.25em;box-sizing: border-box;margin-bottom: 0.5em;}#sk-container-id-3 div.sk-estimator:hover {background-color: #d4ebff;}#sk-container-id-3 div.sk-parallel-item::after {content: \"\";width: 100%;border-bottom: 1px solid gray;flex-grow: 1;}#sk-container-id-3 div.sk-label:hover label.sk-toggleable__label {background-color: #d4ebff;}#sk-container-id-3 div.sk-serial::before {content: \"\";position: absolute;border-left: 1px solid gray;box-sizing: border-box;top: 0;bottom: 0;left: 50%;z-index: 0;}#sk-container-id-3 div.sk-serial {display: flex;flex-direction: column;align-items: center;background-color: white;padding-right: 0.2em;padding-left: 0.2em;position: relative;}#sk-container-id-3 div.sk-item {position: relative;z-index: 1;}#sk-container-id-3 div.sk-parallel {display: flex;align-items: stretch;justify-content: center;background-color: white;position: relative;}#sk-container-id-3 div.sk-item::before, #sk-container-id-3 div.sk-parallel-item::before {content: \"\";position: absolute;border-left: 1px solid gray;box-sizing: border-box;top: 0;bottom: 0;left: 50%;z-index: -1;}#sk-container-id-3 div.sk-parallel-item {display: flex;flex-direction: column;z-index: 1;position: relative;background-color: white;}#sk-container-id-3 div.sk-parallel-item:first-child::after {align-self: flex-end;width: 50%;}#sk-container-id-3 div.sk-parallel-item:last-child::after {align-self: flex-start;width: 50%;}#sk-container-id-3 div.sk-parallel-item:only-child::after {width: 0;}#sk-container-id-3 div.sk-dashed-wrapped {border: 1px dashed gray;margin: 0 0.4em 0.5em 0.4em;box-sizing: border-box;padding-bottom: 0.4em;background-color: white;}#sk-container-id-3 div.sk-label label {font-family: monospace;font-weight: bold;display: inline-block;line-height: 1.2em;}#sk-container-id-3 div.sk-label-container {text-align: center;}#sk-container-id-3 div.sk-container {/* jupyter's `normalize.less` sets `[hidden] { display: none; }` but bootstrap.min.css set `[hidden] { display: none !important; }` so we also need the `!important` here to be able to override the default hidden behavior on the sphinx rendered scikit-learn.org. See: https://github.com/scikit-learn/scikit-learn/issues/21755 */display: inline-block !important;position: relative;}#sk-container-id-3 div.sk-text-repr-fallback {display: none;}</style><div id=\"sk-container-id-3\" class=\"sk-top-container\"><div class=\"sk-text-repr-fallback\"><pre>GridSearchCV(cv=5, estimator=KNeighborsClassifier(),\n",
              "             param_grid={&#x27;algorithm&#x27;: [&#x27;ball_tree&#x27;, &#x27;brute&#x27;, &#x27;kd_tree&#x27;],\n",
              "                         &#x27;leaf_size&#x27;: [20, 30, 40, 50],\n",
              "                         &#x27;n_neighbors&#x27;: [3, 5, 6, 7, 10, 12, 15]},\n",
              "             verbose=3)</pre><b>In a Jupyter environment, please rerun this cell to show the HTML representation or trust the notebook. <br />On GitHub, the HTML representation is unable to render, please try loading this page with nbviewer.org.</b></div><div class=\"sk-container\" hidden><div class=\"sk-item sk-dashed-wrapped\"><div class=\"sk-label-container\"><div class=\"sk-label sk-toggleable\"><input class=\"sk-toggleable__control sk-hidden--visually\" id=\"sk-estimator-id-3\" type=\"checkbox\" ><label for=\"sk-estimator-id-3\" class=\"sk-toggleable__label sk-toggleable__label-arrow\">GridSearchCV</label><div class=\"sk-toggleable__content\"><pre>GridSearchCV(cv=5, estimator=KNeighborsClassifier(),\n",
              "             param_grid={&#x27;algorithm&#x27;: [&#x27;ball_tree&#x27;, &#x27;brute&#x27;, &#x27;kd_tree&#x27;],\n",
              "                         &#x27;leaf_size&#x27;: [20, 30, 40, 50],\n",
              "                         &#x27;n_neighbors&#x27;: [3, 5, 6, 7, 10, 12, 15]},\n",
              "             verbose=3)</pre></div></div></div><div class=\"sk-parallel\"><div class=\"sk-parallel-item\"><div class=\"sk-item\"><div class=\"sk-label-container\"><div class=\"sk-label sk-toggleable\"><input class=\"sk-toggleable__control sk-hidden--visually\" id=\"sk-estimator-id-4\" type=\"checkbox\" ><label for=\"sk-estimator-id-4\" class=\"sk-toggleable__label sk-toggleable__label-arrow\">estimator: KNeighborsClassifier</label><div class=\"sk-toggleable__content\"><pre>KNeighborsClassifier()</pre></div></div></div><div class=\"sk-serial\"><div class=\"sk-item\"><div class=\"sk-estimator sk-toggleable\"><input class=\"sk-toggleable__control sk-hidden--visually\" id=\"sk-estimator-id-5\" type=\"checkbox\" ><label for=\"sk-estimator-id-5\" class=\"sk-toggleable__label sk-toggleable__label-arrow\">KNeighborsClassifier</label><div class=\"sk-toggleable__content\"><pre>KNeighborsClassifier()</pre></div></div></div></div></div></div></div></div></div></div>"
            ]
          },
          "metadata": {},
          "execution_count": 17
        }
      ]
    },
    {
      "cell_type": "code",
      "source": [
        "grid.fit(x_train,y_train)"
      ],
      "metadata": {
        "colab": {
          "base_uri": "https://localhost:8080/",
          "height": 1000
        },
        "id": "EimlJSMBP8tw",
        "outputId": "13c09371-2e38-48fc-d7a2-04fdfdfa0fb0"
      },
      "execution_count": 18,
      "outputs": [
        {
          "output_type": "stream",
          "name": "stdout",
          "text": [
            "Fitting 5 folds for each of 84 candidates, totalling 420 fits\n",
            "[CV 1/5] END algorithm=ball_tree, leaf_size=20, n_neighbors=3;, score=0.871 total time=   0.0s\n",
            "[CV 2/5] END algorithm=ball_tree, leaf_size=20, n_neighbors=3;, score=0.850 total time=   0.0s\n",
            "[CV 3/5] END algorithm=ball_tree, leaf_size=20, n_neighbors=3;, score=0.814 total time=   0.0s\n",
            "[CV 4/5] END algorithm=ball_tree, leaf_size=20, n_neighbors=3;, score=0.814 total time=   0.0s\n",
            "[CV 5/5] END algorithm=ball_tree, leaf_size=20, n_neighbors=3;, score=0.793 total time=   0.0s\n",
            "[CV 1/5] END algorithm=ball_tree, leaf_size=20, n_neighbors=5;, score=0.879 total time=   0.0s\n",
            "[CV 2/5] END algorithm=ball_tree, leaf_size=20, n_neighbors=5;, score=0.843 total time=   0.0s\n",
            "[CV 3/5] END algorithm=ball_tree, leaf_size=20, n_neighbors=5;, score=0.829 total time=   0.0s\n",
            "[CV 4/5] END algorithm=ball_tree, leaf_size=20, n_neighbors=5;, score=0.836 total time=   0.0s\n",
            "[CV 5/5] END algorithm=ball_tree, leaf_size=20, n_neighbors=5;, score=0.829 total time=   0.0s\n",
            "[CV 1/5] END algorithm=ball_tree, leaf_size=20, n_neighbors=6;, score=0.871 total time=   0.0s\n",
            "[CV 2/5] END algorithm=ball_tree, leaf_size=20, n_neighbors=6;, score=0.836 total time=   0.0s\n",
            "[CV 3/5] END algorithm=ball_tree, leaf_size=20, n_neighbors=6;, score=0.807 total time=   0.0s\n",
            "[CV 4/5] END algorithm=ball_tree, leaf_size=20, n_neighbors=6;, score=0.843 total time=   0.0s\n",
            "[CV 5/5] END algorithm=ball_tree, leaf_size=20, n_neighbors=6;, score=0.836 total time=   0.0s\n",
            "[CV 1/5] END algorithm=ball_tree, leaf_size=20, n_neighbors=7;, score=0.879 total time=   0.0s\n",
            "[CV 2/5] END algorithm=ball_tree, leaf_size=20, n_neighbors=7;, score=0.829 total time=   0.0s\n",
            "[CV 3/5] END algorithm=ball_tree, leaf_size=20, n_neighbors=7;, score=0.821 total time=   0.0s\n",
            "[CV 4/5] END algorithm=ball_tree, leaf_size=20, n_neighbors=7;, score=0.829 total time=   0.0s\n",
            "[CV 5/5] END algorithm=ball_tree, leaf_size=20, n_neighbors=7;, score=0.829 total time=   0.0s\n",
            "[CV 1/5] END algorithm=ball_tree, leaf_size=20, n_neighbors=10;, score=0.871 total time=   0.0s\n",
            "[CV 2/5] END algorithm=ball_tree, leaf_size=20, n_neighbors=10;, score=0.843 total time=   0.0s\n",
            "[CV 3/5] END algorithm=ball_tree, leaf_size=20, n_neighbors=10;, score=0.814 total time=   0.0s\n",
            "[CV 4/5] END algorithm=ball_tree, leaf_size=20, n_neighbors=10;, score=0.857 total time=   0.0s\n",
            "[CV 5/5] END algorithm=ball_tree, leaf_size=20, n_neighbors=10;, score=0.836 total time=   0.0s\n",
            "[CV 1/5] END algorithm=ball_tree, leaf_size=20, n_neighbors=12;, score=0.886 total time=   0.0s\n",
            "[CV 2/5] END algorithm=ball_tree, leaf_size=20, n_neighbors=12;, score=0.843 total time=   0.0s\n",
            "[CV 3/5] END algorithm=ball_tree, leaf_size=20, n_neighbors=12;, score=0.821 total time=   0.0s\n",
            "[CV 4/5] END algorithm=ball_tree, leaf_size=20, n_neighbors=12;, score=0.871 total time=   0.0s\n",
            "[CV 5/5] END algorithm=ball_tree, leaf_size=20, n_neighbors=12;, score=0.843 total time=   0.0s\n",
            "[CV 1/5] END algorithm=ball_tree, leaf_size=20, n_neighbors=15;, score=0.893 total time=   0.0s\n",
            "[CV 2/5] END algorithm=ball_tree, leaf_size=20, n_neighbors=15;, score=0.843 total time=   0.0s\n",
            "[CV 3/5] END algorithm=ball_tree, leaf_size=20, n_neighbors=15;, score=0.836 total time=   0.0s\n",
            "[CV 4/5] END algorithm=ball_tree, leaf_size=20, n_neighbors=15;, score=0.850 total time=   0.0s\n",
            "[CV 5/5] END algorithm=ball_tree, leaf_size=20, n_neighbors=15;, score=0.829 total time=   0.0s\n",
            "[CV 1/5] END algorithm=ball_tree, leaf_size=30, n_neighbors=3;, score=0.871 total time=   0.0s\n",
            "[CV 2/5] END algorithm=ball_tree, leaf_size=30, n_neighbors=3;, score=0.850 total time=   0.0s\n",
            "[CV 3/5] END algorithm=ball_tree, leaf_size=30, n_neighbors=3;, score=0.814 total time=   0.0s\n",
            "[CV 4/5] END algorithm=ball_tree, leaf_size=30, n_neighbors=3;, score=0.814 total time=   0.0s\n",
            "[CV 5/5] END algorithm=ball_tree, leaf_size=30, n_neighbors=3;, score=0.793 total time=   0.0s\n",
            "[CV 1/5] END algorithm=ball_tree, leaf_size=30, n_neighbors=5;, score=0.879 total time=   0.0s\n",
            "[CV 2/5] END algorithm=ball_tree, leaf_size=30, n_neighbors=5;, score=0.843 total time=   0.0s\n",
            "[CV 3/5] END algorithm=ball_tree, leaf_size=30, n_neighbors=5;, score=0.829 total time=   0.0s\n",
            "[CV 4/5] END algorithm=ball_tree, leaf_size=30, n_neighbors=5;, score=0.836 total time=   0.0s\n",
            "[CV 5/5] END algorithm=ball_tree, leaf_size=30, n_neighbors=5;, score=0.829 total time=   0.0s\n",
            "[CV 1/5] END algorithm=ball_tree, leaf_size=30, n_neighbors=6;, score=0.871 total time=   0.0s\n",
            "[CV 2/5] END algorithm=ball_tree, leaf_size=30, n_neighbors=6;, score=0.836 total time=   0.0s\n",
            "[CV 3/5] END algorithm=ball_tree, leaf_size=30, n_neighbors=6;, score=0.807 total time=   0.0s\n",
            "[CV 4/5] END algorithm=ball_tree, leaf_size=30, n_neighbors=6;, score=0.843 total time=   0.0s\n",
            "[CV 5/5] END algorithm=ball_tree, leaf_size=30, n_neighbors=6;, score=0.836 total time=   0.0s\n",
            "[CV 1/5] END algorithm=ball_tree, leaf_size=30, n_neighbors=7;, score=0.879 total time=   0.0s\n",
            "[CV 2/5] END algorithm=ball_tree, leaf_size=30, n_neighbors=7;, score=0.829 total time=   0.0s\n",
            "[CV 3/5] END algorithm=ball_tree, leaf_size=30, n_neighbors=7;, score=0.821 total time=   0.0s\n",
            "[CV 4/5] END algorithm=ball_tree, leaf_size=30, n_neighbors=7;, score=0.829 total time=   0.0s\n",
            "[CV 5/5] END algorithm=ball_tree, leaf_size=30, n_neighbors=7;, score=0.829 total time=   0.0s\n",
            "[CV 1/5] END algorithm=ball_tree, leaf_size=30, n_neighbors=10;, score=0.871 total time=   0.0s\n",
            "[CV 2/5] END algorithm=ball_tree, leaf_size=30, n_neighbors=10;, score=0.843 total time=   0.0s\n",
            "[CV 3/5] END algorithm=ball_tree, leaf_size=30, n_neighbors=10;, score=0.814 total time=   0.0s\n",
            "[CV 4/5] END algorithm=ball_tree, leaf_size=30, n_neighbors=10;, score=0.857 total time=   0.0s\n",
            "[CV 5/5] END algorithm=ball_tree, leaf_size=30, n_neighbors=10;, score=0.836 total time=   0.0s\n",
            "[CV 1/5] END algorithm=ball_tree, leaf_size=30, n_neighbors=12;, score=0.886 total time=   0.0s\n",
            "[CV 2/5] END algorithm=ball_tree, leaf_size=30, n_neighbors=12;, score=0.843 total time=   0.0s\n",
            "[CV 3/5] END algorithm=ball_tree, leaf_size=30, n_neighbors=12;, score=0.821 total time=   0.0s\n",
            "[CV 4/5] END algorithm=ball_tree, leaf_size=30, n_neighbors=12;, score=0.871 total time=   0.0s\n",
            "[CV 5/5] END algorithm=ball_tree, leaf_size=30, n_neighbors=12;, score=0.843 total time=   0.0s\n",
            "[CV 1/5] END algorithm=ball_tree, leaf_size=30, n_neighbors=15;, score=0.893 total time=   0.0s\n",
            "[CV 2/5] END algorithm=ball_tree, leaf_size=30, n_neighbors=15;, score=0.843 total time=   0.0s\n",
            "[CV 3/5] END algorithm=ball_tree, leaf_size=30, n_neighbors=15;, score=0.836 total time=   0.0s\n",
            "[CV 4/5] END algorithm=ball_tree, leaf_size=30, n_neighbors=15;, score=0.850 total time=   0.0s\n",
            "[CV 5/5] END algorithm=ball_tree, leaf_size=30, n_neighbors=15;, score=0.829 total time=   0.0s\n",
            "[CV 1/5] END algorithm=ball_tree, leaf_size=40, n_neighbors=3;, score=0.871 total time=   0.0s\n",
            "[CV 2/5] END algorithm=ball_tree, leaf_size=40, n_neighbors=3;, score=0.850 total time=   0.0s\n",
            "[CV 3/5] END algorithm=ball_tree, leaf_size=40, n_neighbors=3;, score=0.814 total time=   0.0s\n",
            "[CV 4/5] END algorithm=ball_tree, leaf_size=40, n_neighbors=3;, score=0.814 total time=   0.0s\n",
            "[CV 5/5] END algorithm=ball_tree, leaf_size=40, n_neighbors=3;, score=0.793 total time=   0.0s\n",
            "[CV 1/5] END algorithm=ball_tree, leaf_size=40, n_neighbors=5;, score=0.879 total time=   0.0s\n",
            "[CV 2/5] END algorithm=ball_tree, leaf_size=40, n_neighbors=5;, score=0.843 total time=   0.0s\n",
            "[CV 3/5] END algorithm=ball_tree, leaf_size=40, n_neighbors=5;, score=0.829 total time=   0.0s\n",
            "[CV 4/5] END algorithm=ball_tree, leaf_size=40, n_neighbors=5;, score=0.836 total time=   0.0s\n",
            "[CV 5/5] END algorithm=ball_tree, leaf_size=40, n_neighbors=5;, score=0.829 total time=   0.0s\n",
            "[CV 1/5] END algorithm=ball_tree, leaf_size=40, n_neighbors=6;, score=0.871 total time=   0.0s\n",
            "[CV 2/5] END algorithm=ball_tree, leaf_size=40, n_neighbors=6;, score=0.836 total time=   0.0s\n",
            "[CV 3/5] END algorithm=ball_tree, leaf_size=40, n_neighbors=6;, score=0.807 total time=   0.0s\n",
            "[CV 4/5] END algorithm=ball_tree, leaf_size=40, n_neighbors=6;, score=0.843 total time=   0.0s\n",
            "[CV 5/5] END algorithm=ball_tree, leaf_size=40, n_neighbors=6;, score=0.836 total time=   0.0s\n",
            "[CV 1/5] END algorithm=ball_tree, leaf_size=40, n_neighbors=7;, score=0.879 total time=   0.0s\n",
            "[CV 2/5] END algorithm=ball_tree, leaf_size=40, n_neighbors=7;, score=0.829 total time=   0.0s\n",
            "[CV 3/5] END algorithm=ball_tree, leaf_size=40, n_neighbors=7;, score=0.821 total time=   0.0s\n",
            "[CV 4/5] END algorithm=ball_tree, leaf_size=40, n_neighbors=7;, score=0.829 total time=   0.0s\n",
            "[CV 5/5] END algorithm=ball_tree, leaf_size=40, n_neighbors=7;, score=0.829 total time=   0.0s\n",
            "[CV 1/5] END algorithm=ball_tree, leaf_size=40, n_neighbors=10;, score=0.871 total time=   0.0s\n",
            "[CV 2/5] END algorithm=ball_tree, leaf_size=40, n_neighbors=10;, score=0.843 total time=   0.0s\n",
            "[CV 3/5] END algorithm=ball_tree, leaf_size=40, n_neighbors=10;, score=0.814 total time=   0.0s\n",
            "[CV 4/5] END algorithm=ball_tree, leaf_size=40, n_neighbors=10;, score=0.857 total time=   0.0s\n",
            "[CV 5/5] END algorithm=ball_tree, leaf_size=40, n_neighbors=10;, score=0.836 total time=   0.0s\n",
            "[CV 1/5] END algorithm=ball_tree, leaf_size=40, n_neighbors=12;, score=0.886 total time=   0.0s\n",
            "[CV 2/5] END algorithm=ball_tree, leaf_size=40, n_neighbors=12;, score=0.843 total time=   0.0s\n",
            "[CV 3/5] END algorithm=ball_tree, leaf_size=40, n_neighbors=12;, score=0.821 total time=   0.0s\n",
            "[CV 4/5] END algorithm=ball_tree, leaf_size=40, n_neighbors=12;, score=0.871 total time=   0.0s\n",
            "[CV 5/5] END algorithm=ball_tree, leaf_size=40, n_neighbors=12;, score=0.843 total time=   0.0s\n",
            "[CV 1/5] END algorithm=ball_tree, leaf_size=40, n_neighbors=15;, score=0.893 total time=   0.0s\n",
            "[CV 2/5] END algorithm=ball_tree, leaf_size=40, n_neighbors=15;, score=0.843 total time=   0.0s\n",
            "[CV 3/5] END algorithm=ball_tree, leaf_size=40, n_neighbors=15;, score=0.836 total time=   0.0s\n",
            "[CV 4/5] END algorithm=ball_tree, leaf_size=40, n_neighbors=15;, score=0.850 total time=   0.0s\n",
            "[CV 5/5] END algorithm=ball_tree, leaf_size=40, n_neighbors=15;, score=0.829 total time=   0.0s\n",
            "[CV 1/5] END algorithm=ball_tree, leaf_size=50, n_neighbors=3;, score=0.871 total time=   0.0s\n",
            "[CV 2/5] END algorithm=ball_tree, leaf_size=50, n_neighbors=3;, score=0.850 total time=   0.0s\n",
            "[CV 3/5] END algorithm=ball_tree, leaf_size=50, n_neighbors=3;, score=0.814 total time=   0.0s\n",
            "[CV 4/5] END algorithm=ball_tree, leaf_size=50, n_neighbors=3;, score=0.814 total time=   0.0s\n",
            "[CV 5/5] END algorithm=ball_tree, leaf_size=50, n_neighbors=3;, score=0.793 total time=   0.0s\n",
            "[CV 1/5] END algorithm=ball_tree, leaf_size=50, n_neighbors=5;, score=0.879 total time=   0.0s\n",
            "[CV 2/5] END algorithm=ball_tree, leaf_size=50, n_neighbors=5;, score=0.843 total time=   0.0s\n",
            "[CV 3/5] END algorithm=ball_tree, leaf_size=50, n_neighbors=5;, score=0.829 total time=   0.0s\n",
            "[CV 4/5] END algorithm=ball_tree, leaf_size=50, n_neighbors=5;, score=0.836 total time=   0.0s\n",
            "[CV 5/5] END algorithm=ball_tree, leaf_size=50, n_neighbors=5;, score=0.829 total time=   0.0s\n",
            "[CV 1/5] END algorithm=ball_tree, leaf_size=50, n_neighbors=6;, score=0.871 total time=   0.0s\n",
            "[CV 2/5] END algorithm=ball_tree, leaf_size=50, n_neighbors=6;, score=0.836 total time=   0.0s\n",
            "[CV 3/5] END algorithm=ball_tree, leaf_size=50, n_neighbors=6;, score=0.807 total time=   0.0s\n",
            "[CV 4/5] END algorithm=ball_tree, leaf_size=50, n_neighbors=6;, score=0.843 total time=   0.0s\n",
            "[CV 5/5] END algorithm=ball_tree, leaf_size=50, n_neighbors=6;, score=0.836 total time=   0.0s\n",
            "[CV 1/5] END algorithm=ball_tree, leaf_size=50, n_neighbors=7;, score=0.879 total time=   0.0s\n",
            "[CV 2/5] END algorithm=ball_tree, leaf_size=50, n_neighbors=7;, score=0.829 total time=   0.0s\n",
            "[CV 3/5] END algorithm=ball_tree, leaf_size=50, n_neighbors=7;, score=0.821 total time=   0.0s\n",
            "[CV 4/5] END algorithm=ball_tree, leaf_size=50, n_neighbors=7;, score=0.829 total time=   0.0s\n",
            "[CV 5/5] END algorithm=ball_tree, leaf_size=50, n_neighbors=7;, score=0.829 total time=   0.0s\n",
            "[CV 1/5] END algorithm=ball_tree, leaf_size=50, n_neighbors=10;, score=0.871 total time=   0.0s\n",
            "[CV 2/5] END algorithm=ball_tree, leaf_size=50, n_neighbors=10;, score=0.843 total time=   0.0s\n",
            "[CV 3/5] END algorithm=ball_tree, leaf_size=50, n_neighbors=10;, score=0.814 total time=   0.0s\n",
            "[CV 4/5] END algorithm=ball_tree, leaf_size=50, n_neighbors=10;, score=0.857 total time=   0.0s\n",
            "[CV 5/5] END algorithm=ball_tree, leaf_size=50, n_neighbors=10;, score=0.836 total time=   0.0s\n",
            "[CV 1/5] END algorithm=ball_tree, leaf_size=50, n_neighbors=12;, score=0.886 total time=   0.0s\n",
            "[CV 2/5] END algorithm=ball_tree, leaf_size=50, n_neighbors=12;, score=0.843 total time=   0.0s\n",
            "[CV 3/5] END algorithm=ball_tree, leaf_size=50, n_neighbors=12;, score=0.821 total time=   0.0s\n",
            "[CV 4/5] END algorithm=ball_tree, leaf_size=50, n_neighbors=12;, score=0.871 total time=   0.0s\n",
            "[CV 5/5] END algorithm=ball_tree, leaf_size=50, n_neighbors=12;, score=0.843 total time=   0.0s\n",
            "[CV 1/5] END algorithm=ball_tree, leaf_size=50, n_neighbors=15;, score=0.893 total time=   0.0s\n",
            "[CV 2/5] END algorithm=ball_tree, leaf_size=50, n_neighbors=15;, score=0.843 total time=   0.0s\n",
            "[CV 3/5] END algorithm=ball_tree, leaf_size=50, n_neighbors=15;, score=0.836 total time=   0.0s\n",
            "[CV 4/5] END algorithm=ball_tree, leaf_size=50, n_neighbors=15;, score=0.850 total time=   0.0s\n",
            "[CV 5/5] END algorithm=ball_tree, leaf_size=50, n_neighbors=15;, score=0.829 total time=   0.0s\n",
            "[CV 1/5] END algorithm=brute, leaf_size=20, n_neighbors=3;, score=0.871 total time=   0.1s\n",
            "[CV 2/5] END algorithm=brute, leaf_size=20, n_neighbors=3;, score=0.850 total time=   0.0s\n",
            "[CV 3/5] END algorithm=brute, leaf_size=20, n_neighbors=3;, score=0.814 total time=   0.0s\n",
            "[CV 4/5] END algorithm=brute, leaf_size=20, n_neighbors=3;, score=0.814 total time=   0.0s\n",
            "[CV 5/5] END algorithm=brute, leaf_size=20, n_neighbors=3;, score=0.793 total time=   0.0s\n",
            "[CV 1/5] END algorithm=brute, leaf_size=20, n_neighbors=5;, score=0.879 total time=   0.0s\n",
            "[CV 2/5] END algorithm=brute, leaf_size=20, n_neighbors=5;, score=0.843 total time=   0.0s\n",
            "[CV 3/5] END algorithm=brute, leaf_size=20, n_neighbors=5;, score=0.829 total time=   0.0s\n",
            "[CV 4/5] END algorithm=brute, leaf_size=20, n_neighbors=5;, score=0.836 total time=   0.0s\n",
            "[CV 5/5] END algorithm=brute, leaf_size=20, n_neighbors=5;, score=0.829 total time=   0.0s\n",
            "[CV 1/5] END algorithm=brute, leaf_size=20, n_neighbors=6;, score=0.871 total time=   0.0s\n",
            "[CV 2/5] END algorithm=brute, leaf_size=20, n_neighbors=6;, score=0.836 total time=   0.0s\n",
            "[CV 3/5] END algorithm=brute, leaf_size=20, n_neighbors=6;, score=0.807 total time=   0.0s\n",
            "[CV 4/5] END algorithm=brute, leaf_size=20, n_neighbors=6;, score=0.843 total time=   0.0s\n",
            "[CV 5/5] END algorithm=brute, leaf_size=20, n_neighbors=6;, score=0.836 total time=   0.0s\n",
            "[CV 1/5] END algorithm=brute, leaf_size=20, n_neighbors=7;, score=0.879 total time=   0.0s\n",
            "[CV 2/5] END algorithm=brute, leaf_size=20, n_neighbors=7;, score=0.829 total time=   0.0s\n",
            "[CV 3/5] END algorithm=brute, leaf_size=20, n_neighbors=7;, score=0.821 total time=   0.0s\n",
            "[CV 4/5] END algorithm=brute, leaf_size=20, n_neighbors=7;, score=0.829 total time=   0.0s\n",
            "[CV 5/5] END algorithm=brute, leaf_size=20, n_neighbors=7;, score=0.829 total time=   0.0s\n",
            "[CV 1/5] END algorithm=brute, leaf_size=20, n_neighbors=10;, score=0.871 total time=   0.0s\n",
            "[CV 2/5] END algorithm=brute, leaf_size=20, n_neighbors=10;, score=0.843 total time=   0.0s\n",
            "[CV 3/5] END algorithm=brute, leaf_size=20, n_neighbors=10;, score=0.814 total time=   0.0s\n",
            "[CV 4/5] END algorithm=brute, leaf_size=20, n_neighbors=10;, score=0.857 total time=   0.0s\n",
            "[CV 5/5] END algorithm=brute, leaf_size=20, n_neighbors=10;, score=0.836 total time=   0.0s\n",
            "[CV 1/5] END algorithm=brute, leaf_size=20, n_neighbors=12;, score=0.886 total time=   0.0s\n",
            "[CV 2/5] END algorithm=brute, leaf_size=20, n_neighbors=12;, score=0.843 total time=   0.0s\n",
            "[CV 3/5] END algorithm=brute, leaf_size=20, n_neighbors=12;, score=0.821 total time=   0.0s\n",
            "[CV 4/5] END algorithm=brute, leaf_size=20, n_neighbors=12;, score=0.871 total time=   0.0s\n",
            "[CV 5/5] END algorithm=brute, leaf_size=20, n_neighbors=12;, score=0.843 total time=   0.0s\n",
            "[CV 1/5] END algorithm=brute, leaf_size=20, n_neighbors=15;, score=0.893 total time=   0.0s\n",
            "[CV 2/5] END algorithm=brute, leaf_size=20, n_neighbors=15;, score=0.843 total time=   0.0s\n",
            "[CV 3/5] END algorithm=brute, leaf_size=20, n_neighbors=15;, score=0.836 total time=   0.0s\n",
            "[CV 4/5] END algorithm=brute, leaf_size=20, n_neighbors=15;, score=0.850 total time=   0.0s\n",
            "[CV 5/5] END algorithm=brute, leaf_size=20, n_neighbors=15;, score=0.829 total time=   0.0s\n",
            "[CV 1/5] END algorithm=brute, leaf_size=30, n_neighbors=3;, score=0.871 total time=   0.0s\n",
            "[CV 2/5] END algorithm=brute, leaf_size=30, n_neighbors=3;, score=0.850 total time=   0.0s\n",
            "[CV 3/5] END algorithm=brute, leaf_size=30, n_neighbors=3;, score=0.814 total time=   0.0s\n",
            "[CV 4/5] END algorithm=brute, leaf_size=30, n_neighbors=3;, score=0.814 total time=   0.0s\n",
            "[CV 5/5] END algorithm=brute, leaf_size=30, n_neighbors=3;, score=0.793 total time=   0.0s\n",
            "[CV 1/5] END algorithm=brute, leaf_size=30, n_neighbors=5;, score=0.879 total time=   0.0s\n",
            "[CV 2/5] END algorithm=brute, leaf_size=30, n_neighbors=5;, score=0.843 total time=   0.0s\n",
            "[CV 3/5] END algorithm=brute, leaf_size=30, n_neighbors=5;, score=0.829 total time=   0.0s\n",
            "[CV 4/5] END algorithm=brute, leaf_size=30, n_neighbors=5;, score=0.836 total time=   0.0s\n",
            "[CV 5/5] END algorithm=brute, leaf_size=30, n_neighbors=5;, score=0.829 total time=   0.0s\n",
            "[CV 1/5] END algorithm=brute, leaf_size=30, n_neighbors=6;, score=0.871 total time=   0.0s\n",
            "[CV 2/5] END algorithm=brute, leaf_size=30, n_neighbors=6;, score=0.836 total time=   0.0s\n",
            "[CV 3/5] END algorithm=brute, leaf_size=30, n_neighbors=6;, score=0.807 total time=   0.0s\n",
            "[CV 4/5] END algorithm=brute, leaf_size=30, n_neighbors=6;, score=0.843 total time=   0.0s\n",
            "[CV 5/5] END algorithm=brute, leaf_size=30, n_neighbors=6;, score=0.836 total time=   0.0s\n",
            "[CV 1/5] END algorithm=brute, leaf_size=30, n_neighbors=7;, score=0.879 total time=   0.0s\n",
            "[CV 2/5] END algorithm=brute, leaf_size=30, n_neighbors=7;, score=0.829 total time=   0.0s\n",
            "[CV 3/5] END algorithm=brute, leaf_size=30, n_neighbors=7;, score=0.821 total time=   0.0s\n",
            "[CV 4/5] END algorithm=brute, leaf_size=30, n_neighbors=7;, score=0.829 total time=   0.0s\n",
            "[CV 5/5] END algorithm=brute, leaf_size=30, n_neighbors=7;, score=0.829 total time=   0.0s\n",
            "[CV 1/5] END algorithm=brute, leaf_size=30, n_neighbors=10;, score=0.871 total time=   0.0s\n",
            "[CV 2/5] END algorithm=brute, leaf_size=30, n_neighbors=10;, score=0.843 total time=   0.0s\n",
            "[CV 3/5] END algorithm=brute, leaf_size=30, n_neighbors=10;, score=0.814 total time=   0.0s\n",
            "[CV 4/5] END algorithm=brute, leaf_size=30, n_neighbors=10;, score=0.857 total time=   0.0s\n",
            "[CV 5/5] END algorithm=brute, leaf_size=30, n_neighbors=10;, score=0.836 total time=   0.0s\n",
            "[CV 1/5] END algorithm=brute, leaf_size=30, n_neighbors=12;, score=0.886 total time=   0.0s\n",
            "[CV 2/5] END algorithm=brute, leaf_size=30, n_neighbors=12;, score=0.843 total time=   0.0s\n",
            "[CV 3/5] END algorithm=brute, leaf_size=30, n_neighbors=12;, score=0.821 total time=   0.0s\n",
            "[CV 4/5] END algorithm=brute, leaf_size=30, n_neighbors=12;, score=0.871 total time=   0.0s\n",
            "[CV 5/5] END algorithm=brute, leaf_size=30, n_neighbors=12;, score=0.843 total time=   0.0s\n",
            "[CV 1/5] END algorithm=brute, leaf_size=30, n_neighbors=15;, score=0.893 total time=   0.0s\n",
            "[CV 2/5] END algorithm=brute, leaf_size=30, n_neighbors=15;, score=0.843 total time=   0.0s\n",
            "[CV 3/5] END algorithm=brute, leaf_size=30, n_neighbors=15;, score=0.836 total time=   0.0s\n",
            "[CV 4/5] END algorithm=brute, leaf_size=30, n_neighbors=15;, score=0.850 total time=   0.0s\n",
            "[CV 5/5] END algorithm=brute, leaf_size=30, n_neighbors=15;, score=0.829 total time=   0.0s\n",
            "[CV 1/5] END algorithm=brute, leaf_size=40, n_neighbors=3;, score=0.871 total time=   0.0s\n",
            "[CV 2/5] END algorithm=brute, leaf_size=40, n_neighbors=3;, score=0.850 total time=   0.0s\n",
            "[CV 3/5] END algorithm=brute, leaf_size=40, n_neighbors=3;, score=0.814 total time=   0.0s\n",
            "[CV 4/5] END algorithm=brute, leaf_size=40, n_neighbors=3;, score=0.814 total time=   0.0s\n",
            "[CV 5/5] END algorithm=brute, leaf_size=40, n_neighbors=3;, score=0.793 total time=   0.0s\n",
            "[CV 1/5] END algorithm=brute, leaf_size=40, n_neighbors=5;, score=0.879 total time=   0.0s\n",
            "[CV 2/5] END algorithm=brute, leaf_size=40, n_neighbors=5;, score=0.843 total time=   0.0s\n",
            "[CV 3/5] END algorithm=brute, leaf_size=40, n_neighbors=5;, score=0.829 total time=   0.0s\n",
            "[CV 4/5] END algorithm=brute, leaf_size=40, n_neighbors=5;, score=0.836 total time=   0.0s\n",
            "[CV 5/5] END algorithm=brute, leaf_size=40, n_neighbors=5;, score=0.829 total time=   0.0s\n",
            "[CV 1/5] END algorithm=brute, leaf_size=40, n_neighbors=6;, score=0.871 total time=   0.0s\n",
            "[CV 2/5] END algorithm=brute, leaf_size=40, n_neighbors=6;, score=0.836 total time=   0.0s\n",
            "[CV 3/5] END algorithm=brute, leaf_size=40, n_neighbors=6;, score=0.807 total time=   0.0s\n",
            "[CV 4/5] END algorithm=brute, leaf_size=40, n_neighbors=6;, score=0.843 total time=   0.0s\n",
            "[CV 5/5] END algorithm=brute, leaf_size=40, n_neighbors=6;, score=0.836 total time=   0.0s\n",
            "[CV 1/5] END algorithm=brute, leaf_size=40, n_neighbors=7;, score=0.879 total time=   0.0s\n",
            "[CV 2/5] END algorithm=brute, leaf_size=40, n_neighbors=7;, score=0.829 total time=   0.0s\n",
            "[CV 3/5] END algorithm=brute, leaf_size=40, n_neighbors=7;, score=0.821 total time=   0.0s\n",
            "[CV 4/5] END algorithm=brute, leaf_size=40, n_neighbors=7;, score=0.829 total time=   0.0s\n",
            "[CV 5/5] END algorithm=brute, leaf_size=40, n_neighbors=7;, score=0.829 total time=   0.0s\n",
            "[CV 1/5] END algorithm=brute, leaf_size=40, n_neighbors=10;, score=0.871 total time=   0.0s\n",
            "[CV 2/5] END algorithm=brute, leaf_size=40, n_neighbors=10;, score=0.843 total time=   0.0s\n",
            "[CV 3/5] END algorithm=brute, leaf_size=40, n_neighbors=10;, score=0.814 total time=   0.0s\n",
            "[CV 4/5] END algorithm=brute, leaf_size=40, n_neighbors=10;, score=0.857 total time=   0.0s\n",
            "[CV 5/5] END algorithm=brute, leaf_size=40, n_neighbors=10;, score=0.836 total time=   0.0s\n",
            "[CV 1/5] END algorithm=brute, leaf_size=40, n_neighbors=12;, score=0.886 total time=   0.0s\n",
            "[CV 2/5] END algorithm=brute, leaf_size=40, n_neighbors=12;, score=0.843 total time=   0.0s\n",
            "[CV 3/5] END algorithm=brute, leaf_size=40, n_neighbors=12;, score=0.821 total time=   0.0s\n",
            "[CV 4/5] END algorithm=brute, leaf_size=40, n_neighbors=12;, score=0.871 total time=   0.0s\n",
            "[CV 5/5] END algorithm=brute, leaf_size=40, n_neighbors=12;, score=0.843 total time=   0.0s\n",
            "[CV 1/5] END algorithm=brute, leaf_size=40, n_neighbors=15;, score=0.893 total time=   0.0s\n",
            "[CV 2/5] END algorithm=brute, leaf_size=40, n_neighbors=15;, score=0.843 total time=   0.0s\n",
            "[CV 3/5] END algorithm=brute, leaf_size=40, n_neighbors=15;, score=0.836 total time=   0.0s\n",
            "[CV 4/5] END algorithm=brute, leaf_size=40, n_neighbors=15;, score=0.850 total time=   0.0s\n",
            "[CV 5/5] END algorithm=brute, leaf_size=40, n_neighbors=15;, score=0.829 total time=   0.0s\n",
            "[CV 1/5] END algorithm=brute, leaf_size=50, n_neighbors=3;, score=0.871 total time=   0.0s\n",
            "[CV 2/5] END algorithm=brute, leaf_size=50, n_neighbors=3;, score=0.850 total time=   0.0s\n",
            "[CV 3/5] END algorithm=brute, leaf_size=50, n_neighbors=3;, score=0.814 total time=   0.0s\n",
            "[CV 4/5] END algorithm=brute, leaf_size=50, n_neighbors=3;, score=0.814 total time=   0.0s\n",
            "[CV 5/5] END algorithm=brute, leaf_size=50, n_neighbors=3;, score=0.793 total time=   0.0s\n",
            "[CV 1/5] END algorithm=brute, leaf_size=50, n_neighbors=5;, score=0.879 total time=   0.0s\n",
            "[CV 2/5] END algorithm=brute, leaf_size=50, n_neighbors=5;, score=0.843 total time=   0.0s\n",
            "[CV 3/5] END algorithm=brute, leaf_size=50, n_neighbors=5;, score=0.829 total time=   0.0s\n",
            "[CV 4/5] END algorithm=brute, leaf_size=50, n_neighbors=5;, score=0.836 total time=   0.0s\n",
            "[CV 5/5] END algorithm=brute, leaf_size=50, n_neighbors=5;, score=0.829 total time=   0.0s\n",
            "[CV 1/5] END algorithm=brute, leaf_size=50, n_neighbors=6;, score=0.871 total time=   0.0s\n",
            "[CV 2/5] END algorithm=brute, leaf_size=50, n_neighbors=6;, score=0.836 total time=   0.0s\n",
            "[CV 3/5] END algorithm=brute, leaf_size=50, n_neighbors=6;, score=0.807 total time=   0.0s\n",
            "[CV 4/5] END algorithm=brute, leaf_size=50, n_neighbors=6;, score=0.843 total time=   0.0s\n",
            "[CV 5/5] END algorithm=brute, leaf_size=50, n_neighbors=6;, score=0.836 total time=   0.0s\n",
            "[CV 1/5] END algorithm=brute, leaf_size=50, n_neighbors=7;, score=0.879 total time=   0.0s\n",
            "[CV 2/5] END algorithm=brute, leaf_size=50, n_neighbors=7;, score=0.829 total time=   0.0s\n",
            "[CV 3/5] END algorithm=brute, leaf_size=50, n_neighbors=7;, score=0.821 total time=   0.0s\n",
            "[CV 4/5] END algorithm=brute, leaf_size=50, n_neighbors=7;, score=0.829 total time=   0.0s\n",
            "[CV 5/5] END algorithm=brute, leaf_size=50, n_neighbors=7;, score=0.829 total time=   0.0s\n",
            "[CV 1/5] END algorithm=brute, leaf_size=50, n_neighbors=10;, score=0.871 total time=   0.0s\n",
            "[CV 2/5] END algorithm=brute, leaf_size=50, n_neighbors=10;, score=0.843 total time=   0.0s\n",
            "[CV 3/5] END algorithm=brute, leaf_size=50, n_neighbors=10;, score=0.814 total time=   0.0s\n",
            "[CV 4/5] END algorithm=brute, leaf_size=50, n_neighbors=10;, score=0.857 total time=   0.0s\n",
            "[CV 5/5] END algorithm=brute, leaf_size=50, n_neighbors=10;, score=0.836 total time=   0.0s\n",
            "[CV 1/5] END algorithm=brute, leaf_size=50, n_neighbors=12;, score=0.886 total time=   0.0s\n",
            "[CV 2/5] END algorithm=brute, leaf_size=50, n_neighbors=12;, score=0.843 total time=   0.0s\n",
            "[CV 3/5] END algorithm=brute, leaf_size=50, n_neighbors=12;, score=0.821 total time=   0.0s\n",
            "[CV 4/5] END algorithm=brute, leaf_size=50, n_neighbors=12;, score=0.871 total time=   0.0s\n",
            "[CV 5/5] END algorithm=brute, leaf_size=50, n_neighbors=12;, score=0.843 total time=   0.0s\n",
            "[CV 1/5] END algorithm=brute, leaf_size=50, n_neighbors=15;, score=0.893 total time=   0.0s\n",
            "[CV 2/5] END algorithm=brute, leaf_size=50, n_neighbors=15;, score=0.843 total time=   0.0s\n",
            "[CV 3/5] END algorithm=brute, leaf_size=50, n_neighbors=15;, score=0.836 total time=   0.0s\n",
            "[CV 4/5] END algorithm=brute, leaf_size=50, n_neighbors=15;, score=0.850 total time=   0.0s\n",
            "[CV 5/5] END algorithm=brute, leaf_size=50, n_neighbors=15;, score=0.829 total time=   0.0s\n",
            "[CV 1/5] END algorithm=kd_tree, leaf_size=20, n_neighbors=3;, score=0.871 total time=   0.0s\n",
            "[CV 2/5] END algorithm=kd_tree, leaf_size=20, n_neighbors=3;, score=0.850 total time=   0.0s\n",
            "[CV 3/5] END algorithm=kd_tree, leaf_size=20, n_neighbors=3;, score=0.814 total time=   0.0s\n",
            "[CV 4/5] END algorithm=kd_tree, leaf_size=20, n_neighbors=3;, score=0.814 total time=   0.0s\n",
            "[CV 5/5] END algorithm=kd_tree, leaf_size=20, n_neighbors=3;, score=0.793 total time=   0.0s\n",
            "[CV 1/5] END algorithm=kd_tree, leaf_size=20, n_neighbors=5;, score=0.879 total time=   0.0s\n",
            "[CV 2/5] END algorithm=kd_tree, leaf_size=20, n_neighbors=5;, score=0.843 total time=   0.0s\n",
            "[CV 3/5] END algorithm=kd_tree, leaf_size=20, n_neighbors=5;, score=0.829 total time=   0.0s\n",
            "[CV 4/5] END algorithm=kd_tree, leaf_size=20, n_neighbors=5;, score=0.836 total time=   0.0s\n",
            "[CV 5/5] END algorithm=kd_tree, leaf_size=20, n_neighbors=5;, score=0.829 total time=   0.0s\n",
            "[CV 1/5] END algorithm=kd_tree, leaf_size=20, n_neighbors=6;, score=0.871 total time=   0.0s\n",
            "[CV 2/5] END algorithm=kd_tree, leaf_size=20, n_neighbors=6;, score=0.836 total time=   0.0s\n",
            "[CV 3/5] END algorithm=kd_tree, leaf_size=20, n_neighbors=6;, score=0.807 total time=   0.0s\n",
            "[CV 4/5] END algorithm=kd_tree, leaf_size=20, n_neighbors=6;, score=0.843 total time=   0.0s\n",
            "[CV 5/5] END algorithm=kd_tree, leaf_size=20, n_neighbors=6;, score=0.836 total time=   0.0s\n",
            "[CV 1/5] END algorithm=kd_tree, leaf_size=20, n_neighbors=7;, score=0.879 total time=   0.0s\n",
            "[CV 2/5] END algorithm=kd_tree, leaf_size=20, n_neighbors=7;, score=0.829 total time=   0.0s\n",
            "[CV 3/5] END algorithm=kd_tree, leaf_size=20, n_neighbors=7;, score=0.821 total time=   0.0s\n",
            "[CV 4/5] END algorithm=kd_tree, leaf_size=20, n_neighbors=7;, score=0.829 total time=   0.0s\n",
            "[CV 5/5] END algorithm=kd_tree, leaf_size=20, n_neighbors=7;, score=0.829 total time=   0.0s\n",
            "[CV 1/5] END algorithm=kd_tree, leaf_size=20, n_neighbors=10;, score=0.871 total time=   0.0s\n",
            "[CV 2/5] END algorithm=kd_tree, leaf_size=20, n_neighbors=10;, score=0.843 total time=   0.0s\n",
            "[CV 3/5] END algorithm=kd_tree, leaf_size=20, n_neighbors=10;, score=0.814 total time=   0.0s\n",
            "[CV 4/5] END algorithm=kd_tree, leaf_size=20, n_neighbors=10;, score=0.857 total time=   0.0s\n",
            "[CV 5/5] END algorithm=kd_tree, leaf_size=20, n_neighbors=10;, score=0.836 total time=   0.0s\n",
            "[CV 1/5] END algorithm=kd_tree, leaf_size=20, n_neighbors=12;, score=0.886 total time=   0.0s\n",
            "[CV 2/5] END algorithm=kd_tree, leaf_size=20, n_neighbors=12;, score=0.843 total time=   0.0s\n",
            "[CV 3/5] END algorithm=kd_tree, leaf_size=20, n_neighbors=12;, score=0.821 total time=   0.0s\n",
            "[CV 4/5] END algorithm=kd_tree, leaf_size=20, n_neighbors=12;, score=0.871 total time=   0.0s\n",
            "[CV 5/5] END algorithm=kd_tree, leaf_size=20, n_neighbors=12;, score=0.843 total time=   0.0s\n",
            "[CV 1/5] END algorithm=kd_tree, leaf_size=20, n_neighbors=15;, score=0.893 total time=   0.0s\n",
            "[CV 2/5] END algorithm=kd_tree, leaf_size=20, n_neighbors=15;, score=0.843 total time=   0.0s\n",
            "[CV 3/5] END algorithm=kd_tree, leaf_size=20, n_neighbors=15;, score=0.836 total time=   0.0s\n",
            "[CV 4/5] END algorithm=kd_tree, leaf_size=20, n_neighbors=15;, score=0.850 total time=   0.0s\n",
            "[CV 5/5] END algorithm=kd_tree, leaf_size=20, n_neighbors=15;, score=0.829 total time=   0.0s\n",
            "[CV 1/5] END algorithm=kd_tree, leaf_size=30, n_neighbors=3;, score=0.871 total time=   0.0s\n",
            "[CV 2/5] END algorithm=kd_tree, leaf_size=30, n_neighbors=3;, score=0.850 total time=   0.0s\n",
            "[CV 3/5] END algorithm=kd_tree, leaf_size=30, n_neighbors=3;, score=0.814 total time=   0.0s\n",
            "[CV 4/5] END algorithm=kd_tree, leaf_size=30, n_neighbors=3;, score=0.814 total time=   0.0s\n",
            "[CV 5/5] END algorithm=kd_tree, leaf_size=30, n_neighbors=3;, score=0.793 total time=   0.0s\n",
            "[CV 1/5] END algorithm=kd_tree, leaf_size=30, n_neighbors=5;, score=0.879 total time=   0.0s\n",
            "[CV 2/5] END algorithm=kd_tree, leaf_size=30, n_neighbors=5;, score=0.843 total time=   0.0s\n",
            "[CV 3/5] END algorithm=kd_tree, leaf_size=30, n_neighbors=5;, score=0.829 total time=   0.0s\n",
            "[CV 4/5] END algorithm=kd_tree, leaf_size=30, n_neighbors=5;, score=0.836 total time=   0.0s\n",
            "[CV 5/5] END algorithm=kd_tree, leaf_size=30, n_neighbors=5;, score=0.829 total time=   0.0s\n",
            "[CV 1/5] END algorithm=kd_tree, leaf_size=30, n_neighbors=6;, score=0.871 total time=   0.0s\n",
            "[CV 2/5] END algorithm=kd_tree, leaf_size=30, n_neighbors=6;, score=0.836 total time=   0.0s\n",
            "[CV 3/5] END algorithm=kd_tree, leaf_size=30, n_neighbors=6;, score=0.807 total time=   0.0s\n",
            "[CV 4/5] END algorithm=kd_tree, leaf_size=30, n_neighbors=6;, score=0.843 total time=   0.0s\n",
            "[CV 5/5] END algorithm=kd_tree, leaf_size=30, n_neighbors=6;, score=0.836 total time=   0.0s\n",
            "[CV 1/5] END algorithm=kd_tree, leaf_size=30, n_neighbors=7;, score=0.879 total time=   0.0s\n",
            "[CV 2/5] END algorithm=kd_tree, leaf_size=30, n_neighbors=7;, score=0.829 total time=   0.0s\n",
            "[CV 3/5] END algorithm=kd_tree, leaf_size=30, n_neighbors=7;, score=0.821 total time=   0.0s\n",
            "[CV 4/5] END algorithm=kd_tree, leaf_size=30, n_neighbors=7;, score=0.829 total time=   0.0s\n",
            "[CV 5/5] END algorithm=kd_tree, leaf_size=30, n_neighbors=7;, score=0.829 total time=   0.0s\n",
            "[CV 1/5] END algorithm=kd_tree, leaf_size=30, n_neighbors=10;, score=0.871 total time=   0.0s\n",
            "[CV 2/5] END algorithm=kd_tree, leaf_size=30, n_neighbors=10;, score=0.843 total time=   0.0s\n",
            "[CV 3/5] END algorithm=kd_tree, leaf_size=30, n_neighbors=10;, score=0.814 total time=   0.0s\n",
            "[CV 4/5] END algorithm=kd_tree, leaf_size=30, n_neighbors=10;, score=0.857 total time=   0.0s\n",
            "[CV 5/5] END algorithm=kd_tree, leaf_size=30, n_neighbors=10;, score=0.836 total time=   0.0s\n",
            "[CV 1/5] END algorithm=kd_tree, leaf_size=30, n_neighbors=12;, score=0.886 total time=   0.0s\n",
            "[CV 2/5] END algorithm=kd_tree, leaf_size=30, n_neighbors=12;, score=0.843 total time=   0.0s\n",
            "[CV 3/5] END algorithm=kd_tree, leaf_size=30, n_neighbors=12;, score=0.821 total time=   0.0s\n",
            "[CV 4/5] END algorithm=kd_tree, leaf_size=30, n_neighbors=12;, score=0.871 total time=   0.0s\n",
            "[CV 5/5] END algorithm=kd_tree, leaf_size=30, n_neighbors=12;, score=0.843 total time=   0.0s\n",
            "[CV 1/5] END algorithm=kd_tree, leaf_size=30, n_neighbors=15;, score=0.893 total time=   0.0s\n",
            "[CV 2/5] END algorithm=kd_tree, leaf_size=30, n_neighbors=15;, score=0.843 total time=   0.0s\n",
            "[CV 3/5] END algorithm=kd_tree, leaf_size=30, n_neighbors=15;, score=0.836 total time=   0.0s\n",
            "[CV 4/5] END algorithm=kd_tree, leaf_size=30, n_neighbors=15;, score=0.850 total time=   0.0s\n",
            "[CV 5/5] END algorithm=kd_tree, leaf_size=30, n_neighbors=15;, score=0.829 total time=   0.0s\n",
            "[CV 1/5] END algorithm=kd_tree, leaf_size=40, n_neighbors=3;, score=0.871 total time=   0.0s\n",
            "[CV 2/5] END algorithm=kd_tree, leaf_size=40, n_neighbors=3;, score=0.850 total time=   0.0s\n",
            "[CV 3/5] END algorithm=kd_tree, leaf_size=40, n_neighbors=3;, score=0.814 total time=   0.0s\n",
            "[CV 4/5] END algorithm=kd_tree, leaf_size=40, n_neighbors=3;, score=0.814 total time=   0.0s\n",
            "[CV 5/5] END algorithm=kd_tree, leaf_size=40, n_neighbors=3;, score=0.793 total time=   0.0s\n",
            "[CV 1/5] END algorithm=kd_tree, leaf_size=40, n_neighbors=5;, score=0.879 total time=   0.0s\n",
            "[CV 2/5] END algorithm=kd_tree, leaf_size=40, n_neighbors=5;, score=0.843 total time=   0.0s\n",
            "[CV 3/5] END algorithm=kd_tree, leaf_size=40, n_neighbors=5;, score=0.829 total time=   0.0s\n",
            "[CV 4/5] END algorithm=kd_tree, leaf_size=40, n_neighbors=5;, score=0.836 total time=   0.0s\n",
            "[CV 5/5] END algorithm=kd_tree, leaf_size=40, n_neighbors=5;, score=0.829 total time=   0.0s\n",
            "[CV 1/5] END algorithm=kd_tree, leaf_size=40, n_neighbors=6;, score=0.871 total time=   0.0s\n",
            "[CV 2/5] END algorithm=kd_tree, leaf_size=40, n_neighbors=6;, score=0.836 total time=   0.0s\n",
            "[CV 3/5] END algorithm=kd_tree, leaf_size=40, n_neighbors=6;, score=0.807 total time=   0.0s\n",
            "[CV 4/5] END algorithm=kd_tree, leaf_size=40, n_neighbors=6;, score=0.843 total time=   0.0s\n",
            "[CV 5/5] END algorithm=kd_tree, leaf_size=40, n_neighbors=6;, score=0.836 total time=   0.0s\n",
            "[CV 1/5] END algorithm=kd_tree, leaf_size=40, n_neighbors=7;, score=0.879 total time=   0.0s\n",
            "[CV 2/5] END algorithm=kd_tree, leaf_size=40, n_neighbors=7;, score=0.829 total time=   0.0s\n",
            "[CV 3/5] END algorithm=kd_tree, leaf_size=40, n_neighbors=7;, score=0.821 total time=   0.0s\n",
            "[CV 4/5] END algorithm=kd_tree, leaf_size=40, n_neighbors=7;, score=0.829 total time=   0.0s\n",
            "[CV 5/5] END algorithm=kd_tree, leaf_size=40, n_neighbors=7;, score=0.829 total time=   0.0s\n",
            "[CV 1/5] END algorithm=kd_tree, leaf_size=40, n_neighbors=10;, score=0.871 total time=   0.0s\n",
            "[CV 2/5] END algorithm=kd_tree, leaf_size=40, n_neighbors=10;, score=0.843 total time=   0.0s\n",
            "[CV 3/5] END algorithm=kd_tree, leaf_size=40, n_neighbors=10;, score=0.814 total time=   0.0s\n",
            "[CV 4/5] END algorithm=kd_tree, leaf_size=40, n_neighbors=10;, score=0.857 total time=   0.0s\n",
            "[CV 5/5] END algorithm=kd_tree, leaf_size=40, n_neighbors=10;, score=0.836 total time=   0.0s\n",
            "[CV 1/5] END algorithm=kd_tree, leaf_size=40, n_neighbors=12;, score=0.886 total time=   0.0s\n",
            "[CV 2/5] END algorithm=kd_tree, leaf_size=40, n_neighbors=12;, score=0.843 total time=   0.0s\n",
            "[CV 3/5] END algorithm=kd_tree, leaf_size=40, n_neighbors=12;, score=0.821 total time=   0.0s\n",
            "[CV 4/5] END algorithm=kd_tree, leaf_size=40, n_neighbors=12;, score=0.871 total time=   0.0s\n",
            "[CV 5/5] END algorithm=kd_tree, leaf_size=40, n_neighbors=12;, score=0.843 total time=   0.0s\n",
            "[CV 1/5] END algorithm=kd_tree, leaf_size=40, n_neighbors=15;, score=0.893 total time=   0.0s\n",
            "[CV 2/5] END algorithm=kd_tree, leaf_size=40, n_neighbors=15;, score=0.843 total time=   0.0s\n",
            "[CV 3/5] END algorithm=kd_tree, leaf_size=40, n_neighbors=15;, score=0.836 total time=   0.0s\n",
            "[CV 4/5] END algorithm=kd_tree, leaf_size=40, n_neighbors=15;, score=0.850 total time=   0.0s\n",
            "[CV 5/5] END algorithm=kd_tree, leaf_size=40, n_neighbors=15;, score=0.829 total time=   0.0s\n",
            "[CV 1/5] END algorithm=kd_tree, leaf_size=50, n_neighbors=3;, score=0.871 total time=   0.0s\n",
            "[CV 2/5] END algorithm=kd_tree, leaf_size=50, n_neighbors=3;, score=0.850 total time=   0.0s\n",
            "[CV 3/5] END algorithm=kd_tree, leaf_size=50, n_neighbors=3;, score=0.814 total time=   0.0s\n",
            "[CV 4/5] END algorithm=kd_tree, leaf_size=50, n_neighbors=3;, score=0.814 total time=   0.0s\n",
            "[CV 5/5] END algorithm=kd_tree, leaf_size=50, n_neighbors=3;, score=0.793 total time=   0.0s\n",
            "[CV 1/5] END algorithm=kd_tree, leaf_size=50, n_neighbors=5;, score=0.879 total time=   0.0s\n",
            "[CV 2/5] END algorithm=kd_tree, leaf_size=50, n_neighbors=5;, score=0.843 total time=   0.0s\n",
            "[CV 3/5] END algorithm=kd_tree, leaf_size=50, n_neighbors=5;, score=0.829 total time=   0.0s\n",
            "[CV 4/5] END algorithm=kd_tree, leaf_size=50, n_neighbors=5;, score=0.836 total time=   0.0s\n",
            "[CV 5/5] END algorithm=kd_tree, leaf_size=50, n_neighbors=5;, score=0.829 total time=   0.0s\n",
            "[CV 1/5] END algorithm=kd_tree, leaf_size=50, n_neighbors=6;, score=0.871 total time=   0.0s\n",
            "[CV 2/5] END algorithm=kd_tree, leaf_size=50, n_neighbors=6;, score=0.836 total time=   0.0s\n",
            "[CV 3/5] END algorithm=kd_tree, leaf_size=50, n_neighbors=6;, score=0.807 total time=   0.0s\n",
            "[CV 4/5] END algorithm=kd_tree, leaf_size=50, n_neighbors=6;, score=0.843 total time=   0.0s\n",
            "[CV 5/5] END algorithm=kd_tree, leaf_size=50, n_neighbors=6;, score=0.836 total time=   0.0s\n",
            "[CV 1/5] END algorithm=kd_tree, leaf_size=50, n_neighbors=7;, score=0.879 total time=   0.0s\n",
            "[CV 2/5] END algorithm=kd_tree, leaf_size=50, n_neighbors=7;, score=0.829 total time=   0.0s\n",
            "[CV 3/5] END algorithm=kd_tree, leaf_size=50, n_neighbors=7;, score=0.821 total time=   0.0s\n",
            "[CV 4/5] END algorithm=kd_tree, leaf_size=50, n_neighbors=7;, score=0.829 total time=   0.0s\n",
            "[CV 5/5] END algorithm=kd_tree, leaf_size=50, n_neighbors=7;, score=0.829 total time=   0.0s\n",
            "[CV 1/5] END algorithm=kd_tree, leaf_size=50, n_neighbors=10;, score=0.871 total time=   0.0s\n",
            "[CV 2/5] END algorithm=kd_tree, leaf_size=50, n_neighbors=10;, score=0.843 total time=   0.0s\n",
            "[CV 3/5] END algorithm=kd_tree, leaf_size=50, n_neighbors=10;, score=0.814 total time=   0.0s\n",
            "[CV 4/5] END algorithm=kd_tree, leaf_size=50, n_neighbors=10;, score=0.857 total time=   0.0s\n",
            "[CV 5/5] END algorithm=kd_tree, leaf_size=50, n_neighbors=10;, score=0.836 total time=   0.0s\n",
            "[CV 1/5] END algorithm=kd_tree, leaf_size=50, n_neighbors=12;, score=0.886 total time=   0.0s\n",
            "[CV 2/5] END algorithm=kd_tree, leaf_size=50, n_neighbors=12;, score=0.843 total time=   0.0s\n",
            "[CV 3/5] END algorithm=kd_tree, leaf_size=50, n_neighbors=12;, score=0.821 total time=   0.0s\n",
            "[CV 4/5] END algorithm=kd_tree, leaf_size=50, n_neighbors=12;, score=0.871 total time=   0.0s\n",
            "[CV 5/5] END algorithm=kd_tree, leaf_size=50, n_neighbors=12;, score=0.843 total time=   0.0s\n",
            "[CV 1/5] END algorithm=kd_tree, leaf_size=50, n_neighbors=15;, score=0.893 total time=   0.0s\n",
            "[CV 2/5] END algorithm=kd_tree, leaf_size=50, n_neighbors=15;, score=0.843 total time=   0.0s\n",
            "[CV 3/5] END algorithm=kd_tree, leaf_size=50, n_neighbors=15;, score=0.836 total time=   0.0s\n",
            "[CV 4/5] END algorithm=kd_tree, leaf_size=50, n_neighbors=15;, score=0.850 total time=   0.0s\n",
            "[CV 5/5] END algorithm=kd_tree, leaf_size=50, n_neighbors=15;, score=0.829 total time=   0.0s\n"
          ]
        },
        {
          "output_type": "execute_result",
          "data": {
            "text/plain": [
              "GridSearchCV(cv=5, estimator=KNeighborsClassifier(),\n",
              "             param_grid={'algorithm': ['ball_tree', 'brute', 'kd_tree'],\n",
              "                         'leaf_size': [20, 30, 40, 50],\n",
              "                         'n_neighbors': [3, 5, 6, 7, 10, 12, 15]},\n",
              "             verbose=3)"
            ],
            "text/html": [
              "<style>#sk-container-id-4 {color: black;}#sk-container-id-4 pre{padding: 0;}#sk-container-id-4 div.sk-toggleable {background-color: white;}#sk-container-id-4 label.sk-toggleable__label {cursor: pointer;display: block;width: 100%;margin-bottom: 0;padding: 0.3em;box-sizing: border-box;text-align: center;}#sk-container-id-4 label.sk-toggleable__label-arrow:before {content: \"▸\";float: left;margin-right: 0.25em;color: #696969;}#sk-container-id-4 label.sk-toggleable__label-arrow:hover:before {color: black;}#sk-container-id-4 div.sk-estimator:hover label.sk-toggleable__label-arrow:before {color: black;}#sk-container-id-4 div.sk-toggleable__content {max-height: 0;max-width: 0;overflow: hidden;text-align: left;background-color: #f0f8ff;}#sk-container-id-4 div.sk-toggleable__content pre {margin: 0.2em;color: black;border-radius: 0.25em;background-color: #f0f8ff;}#sk-container-id-4 input.sk-toggleable__control:checked~div.sk-toggleable__content {max-height: 200px;max-width: 100%;overflow: auto;}#sk-container-id-4 input.sk-toggleable__control:checked~label.sk-toggleable__label-arrow:before {content: \"▾\";}#sk-container-id-4 div.sk-estimator input.sk-toggleable__control:checked~label.sk-toggleable__label {background-color: #d4ebff;}#sk-container-id-4 div.sk-label input.sk-toggleable__control:checked~label.sk-toggleable__label {background-color: #d4ebff;}#sk-container-id-4 input.sk-hidden--visually {border: 0;clip: rect(1px 1px 1px 1px);clip: rect(1px, 1px, 1px, 1px);height: 1px;margin: -1px;overflow: hidden;padding: 0;position: absolute;width: 1px;}#sk-container-id-4 div.sk-estimator {font-family: monospace;background-color: #f0f8ff;border: 1px dotted black;border-radius: 0.25em;box-sizing: border-box;margin-bottom: 0.5em;}#sk-container-id-4 div.sk-estimator:hover {background-color: #d4ebff;}#sk-container-id-4 div.sk-parallel-item::after {content: \"\";width: 100%;border-bottom: 1px solid gray;flex-grow: 1;}#sk-container-id-4 div.sk-label:hover label.sk-toggleable__label {background-color: #d4ebff;}#sk-container-id-4 div.sk-serial::before {content: \"\";position: absolute;border-left: 1px solid gray;box-sizing: border-box;top: 0;bottom: 0;left: 50%;z-index: 0;}#sk-container-id-4 div.sk-serial {display: flex;flex-direction: column;align-items: center;background-color: white;padding-right: 0.2em;padding-left: 0.2em;position: relative;}#sk-container-id-4 div.sk-item {position: relative;z-index: 1;}#sk-container-id-4 div.sk-parallel {display: flex;align-items: stretch;justify-content: center;background-color: white;position: relative;}#sk-container-id-4 div.sk-item::before, #sk-container-id-4 div.sk-parallel-item::before {content: \"\";position: absolute;border-left: 1px solid gray;box-sizing: border-box;top: 0;bottom: 0;left: 50%;z-index: -1;}#sk-container-id-4 div.sk-parallel-item {display: flex;flex-direction: column;z-index: 1;position: relative;background-color: white;}#sk-container-id-4 div.sk-parallel-item:first-child::after {align-self: flex-end;width: 50%;}#sk-container-id-4 div.sk-parallel-item:last-child::after {align-self: flex-start;width: 50%;}#sk-container-id-4 div.sk-parallel-item:only-child::after {width: 0;}#sk-container-id-4 div.sk-dashed-wrapped {border: 1px dashed gray;margin: 0 0.4em 0.5em 0.4em;box-sizing: border-box;padding-bottom: 0.4em;background-color: white;}#sk-container-id-4 div.sk-label label {font-family: monospace;font-weight: bold;display: inline-block;line-height: 1.2em;}#sk-container-id-4 div.sk-label-container {text-align: center;}#sk-container-id-4 div.sk-container {/* jupyter's `normalize.less` sets `[hidden] { display: none; }` but bootstrap.min.css set `[hidden] { display: none !important; }` so we also need the `!important` here to be able to override the default hidden behavior on the sphinx rendered scikit-learn.org. See: https://github.com/scikit-learn/scikit-learn/issues/21755 */display: inline-block !important;position: relative;}#sk-container-id-4 div.sk-text-repr-fallback {display: none;}</style><div id=\"sk-container-id-4\" class=\"sk-top-container\"><div class=\"sk-text-repr-fallback\"><pre>GridSearchCV(cv=5, estimator=KNeighborsClassifier(),\n",
              "             param_grid={&#x27;algorithm&#x27;: [&#x27;ball_tree&#x27;, &#x27;brute&#x27;, &#x27;kd_tree&#x27;],\n",
              "                         &#x27;leaf_size&#x27;: [20, 30, 40, 50],\n",
              "                         &#x27;n_neighbors&#x27;: [3, 5, 6, 7, 10, 12, 15]},\n",
              "             verbose=3)</pre><b>In a Jupyter environment, please rerun this cell to show the HTML representation or trust the notebook. <br />On GitHub, the HTML representation is unable to render, please try loading this page with nbviewer.org.</b></div><div class=\"sk-container\" hidden><div class=\"sk-item sk-dashed-wrapped\"><div class=\"sk-label-container\"><div class=\"sk-label sk-toggleable\"><input class=\"sk-toggleable__control sk-hidden--visually\" id=\"sk-estimator-id-6\" type=\"checkbox\" ><label for=\"sk-estimator-id-6\" class=\"sk-toggleable__label sk-toggleable__label-arrow\">GridSearchCV</label><div class=\"sk-toggleable__content\"><pre>GridSearchCV(cv=5, estimator=KNeighborsClassifier(),\n",
              "             param_grid={&#x27;algorithm&#x27;: [&#x27;ball_tree&#x27;, &#x27;brute&#x27;, &#x27;kd_tree&#x27;],\n",
              "                         &#x27;leaf_size&#x27;: [20, 30, 40, 50],\n",
              "                         &#x27;n_neighbors&#x27;: [3, 5, 6, 7, 10, 12, 15]},\n",
              "             verbose=3)</pre></div></div></div><div class=\"sk-parallel\"><div class=\"sk-parallel-item\"><div class=\"sk-item\"><div class=\"sk-label-container\"><div class=\"sk-label sk-toggleable\"><input class=\"sk-toggleable__control sk-hidden--visually\" id=\"sk-estimator-id-7\" type=\"checkbox\" ><label for=\"sk-estimator-id-7\" class=\"sk-toggleable__label sk-toggleable__label-arrow\">estimator: KNeighborsClassifier</label><div class=\"sk-toggleable__content\"><pre>KNeighborsClassifier()</pre></div></div></div><div class=\"sk-serial\"><div class=\"sk-item\"><div class=\"sk-estimator sk-toggleable\"><input class=\"sk-toggleable__control sk-hidden--visually\" id=\"sk-estimator-id-8\" type=\"checkbox\" ><label for=\"sk-estimator-id-8\" class=\"sk-toggleable__label sk-toggleable__label-arrow\">KNeighborsClassifier</label><div class=\"sk-toggleable__content\"><pre>KNeighborsClassifier()</pre></div></div></div></div></div></div></div></div></div></div>"
            ]
          },
          "metadata": {},
          "execution_count": 18
        }
      ]
    },
    {
      "cell_type": "code",
      "source": [
        "grid.best_params_"
      ],
      "metadata": {
        "colab": {
          "base_uri": "https://localhost:8080/"
        },
        "id": "12jVGafgQBOI",
        "outputId": "e1c79228-70af-4263-dfd6-a083da5c7aa0"
      },
      "execution_count": 19,
      "outputs": [
        {
          "output_type": "execute_result",
          "data": {
            "text/plain": [
              "{'algorithm': 'ball_tree', 'leaf_size': 20, 'n_neighbors': 12}"
            ]
          },
          "metadata": {},
          "execution_count": 19
        }
      ]
    },
    {
      "cell_type": "code",
      "source": [
        "grid.best_score_"
      ],
      "metadata": {
        "colab": {
          "base_uri": "https://localhost:8080/"
        },
        "id": "oje9TMZsQGIh",
        "outputId": "bc53c1be-5c5d-46ea-d373-13446d273766"
      },
      "execution_count": 20,
      "outputs": [
        {
          "output_type": "execute_result",
          "data": {
            "text/plain": [
              "0.8528571428571429"
            ]
          },
          "metadata": {},
          "execution_count": 20
        }
      ]
    },
    {
      "cell_type": "code",
      "source": [
        "best_model=grid.best_estimator_\n",
        "y_pred=best_model.predict(x_test)"
      ],
      "metadata": {
        "id": "Pe3qByp2QING"
      },
      "execution_count": 21,
      "outputs": []
    },
    {
      "cell_type": "code",
      "source": [
        "accuracy_score(y_test,y_pred)"
      ],
      "metadata": {
        "colab": {
          "base_uri": "https://localhost:8080/"
        },
        "id": "wUzSADlpQUGr",
        "outputId": "e98207e6-8197-42f4-f7ef-e57d30bcc993"
      },
      "execution_count": 22,
      "outputs": [
        {
          "output_type": "execute_result",
          "data": {
            "text/plain": [
              "0.87"
            ]
          },
          "metadata": {},
          "execution_count": 22
        }
      ]
    }
  ]
}